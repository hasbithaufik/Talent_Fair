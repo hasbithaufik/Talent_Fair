{
  "cells": [
    {
      "cell_type": "markdown",
      "metadata": {
        "id": "YaIREAUztZtF"
      },
      "source": [
        "# **Hasbi Thaufik Oktodila**\n",
        "# Talent Fair Challenge: Aria Dataset"
      ]
    },
    {
      "cell_type": "markdown",
      "source": [
        "Linkedin: http://linkedin.com/in/hasbithaufik/ <br>"
      ],
      "metadata": {
        "id": "KEb_6yT4IIBv"
      }
    },
    {
      "cell_type": "markdown",
      "source": [
        "Deployment link: [Link](https://huggingface.co/spaces/hasbithaufik/hto_app)"
      ],
      "metadata": {
        "id": "RPeVFvKExjrY"
      }
    },
    {
      "cell_type": "markdown",
      "source": [
        "# **Introduction**"
      ],
      "metadata": {
        "id": "4l8cIEAZvhMu"
      }
    },
    {
      "cell_type": "markdown",
      "source": [
        "Nama saya Hasbi Thaufik Oktodila, alumni Data Science Bootcamp Hacktiv8 HCK-002. Notebook ini Adalah project machine learning menggunakan dataset yang disediakan Aria dalam memprediksi hasil oemberian nutrisi kepada target.\n",
        "\n",
        "Notebook overview:\n",
        "\n",
        "Notebook terdiri dari:\n",
        "1. Data Loading<br>\n",
        "Import data untuk diproses\n",
        "2. Data Cleaning<br>\n",
        "Melakukan pengecekan nilai null, duplicate, dan mempersiapkan data untuk diproses\n",
        "3. Exploratory Data Analysis<br>\n",
        "Analisis Data\n",
        "  Melakukan univariate analysis dan bivariate analysis\n",
        "4. Feature Engineering<br>\n",
        "Mempersiapkan data untuk melakukan modeling\n",
        "5. Modeling<br>\n",
        "Modeling dilakukan menggunakan AutoML AutoSklearn.\n",
        "6. Model Evaluation<br>\n",
        "Untuk mengevaluasi model regresi, digunakan Metriks MAE dan RMSE"
      ],
      "metadata": {
        "id": "wipKbhm3vpGM"
      }
    },
    {
      "cell_type": "markdown",
      "source": [
        "# **Data Information**"
      ],
      "metadata": {
        "id": "n7lAXOCCDis3"
      }
    },
    {
      "cell_type": "markdown",
      "source": [
        "`target` contained information to predict plant nutrition<br>\n",
        "`V1` - `V8` contained information about variable to predict plant nutrition<br>\n",
        "`sample_type` contained information about 2 different labs sample obtained"
      ],
      "metadata": {
        "id": "0J_pzRTYDuoJ"
      }
    },
    {
      "cell_type": "markdown",
      "metadata": {
        "id": "cC6zmlVctZtT"
      },
      "source": [
        "# **Importing Libraries**"
      ]
    },
    {
      "cell_type": "code",
      "execution_count": 1,
      "metadata": {
        "id": "zQ24O8bFtZtU"
      },
      "outputs": [],
      "source": [
        "# Libraries\n",
        "import pandas as pd   # dataframe processing\n",
        "import numpy as np    # mathematical processing\n",
        "import matplotlib.pyplot as plt # visualisasi\n",
        "import seaborn as sns           # visualisasi\n",
        "\n",
        "# Settings\n",
        "pd.set_option('display.max_columns', None)\n",
        "import warnings\n",
        "warnings.filterwarnings(action='ignore')  "
      ]
    },
    {
      "cell_type": "markdown",
      "metadata": {
        "id": "3VQ-tzAmtZtY"
      },
      "source": [
        "# **Loading the Dataset**"
      ]
    },
    {
      "cell_type": "markdown",
      "source": [
        "Import dataset untuk diproses dan menampilkannya."
      ],
      "metadata": {
        "id": "-LlwMPOlyGWF"
      }
    },
    {
      "cell_type": "code",
      "execution_count": 2,
      "metadata": {
        "colab": {
          "base_uri": "https://localhost:8080/",
          "height": 423
        },
        "id": "kCwGW68NtZtY",
        "outputId": "10bce134-ec82-4cce-bb6f-ec598ca2693f"
      },
      "outputs": [
        {
          "output_type": "execute_result",
          "data": {
            "text/plain": [
              "     target          v1          v2          v3          v4          v5  \\\n",
              "0      4.63  260.600000  199.000000  391.333333  371.733333  466.800000   \n",
              "1      5.00  263.200000  194.600000  393.666667  348.533333  401.800000   \n",
              "2      4.91  247.266667  205.800000  375.466667  354.866667  419.000000   \n",
              "3      4.77  257.944444  191.833333  368.722222  334.666667  417.222222   \n",
              "4      4.89  258.200000  195.733333  356.666667  333.333333  394.600000   \n",
              "..      ...         ...         ...         ...         ...         ...   \n",
              "155    4.83  573.250000  361.250000  643.125000  489.812500  666.875000   \n",
              "156    4.47  678.375000  398.125000  678.250000  541.125000  704.000000   \n",
              "157    4.63  634.000000  382.866667  657.466667  505.066667  719.200000   \n",
              "158    4.35  615.312500  366.750000  642.937500  483.687500  675.625000   \n",
              "159    4.43  575.200000  350.266667  648.333333  495.400000  679.800000   \n",
              "\n",
              "             v6          v7           v8 sample_type  \n",
              "0    273.133333  742.066667  4047.733333       lab 1  \n",
              "1    220.066667  712.000000  4673.466667       lab 1  \n",
              "2    222.133333  677.200000  4386.800000       lab 1  \n",
              "3    195.944444  678.555556  4588.777778       lab 1  \n",
              "4    196.000000  677.133333  4867.066667       lab 1  \n",
              "..          ...         ...          ...         ...  \n",
              "155  355.250000  712.312500  3943.687500       lab 2  \n",
              "156  393.500000  788.812500  3928.187500       lab 2  \n",
              "157  366.600000  792.133333  3861.200000       lab 2  \n",
              "158  359.062500  730.125000  3859.062500       lab 2  \n",
              "159  346.266667  718.733333  3903.333333       lab 2  \n",
              "\n",
              "[160 rows x 10 columns]"
            ],
            "text/html": [
              "\n",
              "  <div id=\"df-540102ea-c5b8-41b9-aa0c-9ac2d527ad58\">\n",
              "    <div class=\"colab-df-container\">\n",
              "      <div>\n",
              "<style scoped>\n",
              "    .dataframe tbody tr th:only-of-type {\n",
              "        vertical-align: middle;\n",
              "    }\n",
              "\n",
              "    .dataframe tbody tr th {\n",
              "        vertical-align: top;\n",
              "    }\n",
              "\n",
              "    .dataframe thead th {\n",
              "        text-align: right;\n",
              "    }\n",
              "</style>\n",
              "<table border=\"1\" class=\"dataframe\">\n",
              "  <thead>\n",
              "    <tr style=\"text-align: right;\">\n",
              "      <th></th>\n",
              "      <th>target</th>\n",
              "      <th>v1</th>\n",
              "      <th>v2</th>\n",
              "      <th>v3</th>\n",
              "      <th>v4</th>\n",
              "      <th>v5</th>\n",
              "      <th>v6</th>\n",
              "      <th>v7</th>\n",
              "      <th>v8</th>\n",
              "      <th>sample_type</th>\n",
              "    </tr>\n",
              "  </thead>\n",
              "  <tbody>\n",
              "    <tr>\n",
              "      <th>0</th>\n",
              "      <td>4.63</td>\n",
              "      <td>260.600000</td>\n",
              "      <td>199.000000</td>\n",
              "      <td>391.333333</td>\n",
              "      <td>371.733333</td>\n",
              "      <td>466.800000</td>\n",
              "      <td>273.133333</td>\n",
              "      <td>742.066667</td>\n",
              "      <td>4047.733333</td>\n",
              "      <td>lab 1</td>\n",
              "    </tr>\n",
              "    <tr>\n",
              "      <th>1</th>\n",
              "      <td>5.00</td>\n",
              "      <td>263.200000</td>\n",
              "      <td>194.600000</td>\n",
              "      <td>393.666667</td>\n",
              "      <td>348.533333</td>\n",
              "      <td>401.800000</td>\n",
              "      <td>220.066667</td>\n",
              "      <td>712.000000</td>\n",
              "      <td>4673.466667</td>\n",
              "      <td>lab 1</td>\n",
              "    </tr>\n",
              "    <tr>\n",
              "      <th>2</th>\n",
              "      <td>4.91</td>\n",
              "      <td>247.266667</td>\n",
              "      <td>205.800000</td>\n",
              "      <td>375.466667</td>\n",
              "      <td>354.866667</td>\n",
              "      <td>419.000000</td>\n",
              "      <td>222.133333</td>\n",
              "      <td>677.200000</td>\n",
              "      <td>4386.800000</td>\n",
              "      <td>lab 1</td>\n",
              "    </tr>\n",
              "    <tr>\n",
              "      <th>3</th>\n",
              "      <td>4.77</td>\n",
              "      <td>257.944444</td>\n",
              "      <td>191.833333</td>\n",
              "      <td>368.722222</td>\n",
              "      <td>334.666667</td>\n",
              "      <td>417.222222</td>\n",
              "      <td>195.944444</td>\n",
              "      <td>678.555556</td>\n",
              "      <td>4588.777778</td>\n",
              "      <td>lab 1</td>\n",
              "    </tr>\n",
              "    <tr>\n",
              "      <th>4</th>\n",
              "      <td>4.89</td>\n",
              "      <td>258.200000</td>\n",
              "      <td>195.733333</td>\n",
              "      <td>356.666667</td>\n",
              "      <td>333.333333</td>\n",
              "      <td>394.600000</td>\n",
              "      <td>196.000000</td>\n",
              "      <td>677.133333</td>\n",
              "      <td>4867.066667</td>\n",
              "      <td>lab 1</td>\n",
              "    </tr>\n",
              "    <tr>\n",
              "      <th>...</th>\n",
              "      <td>...</td>\n",
              "      <td>...</td>\n",
              "      <td>...</td>\n",
              "      <td>...</td>\n",
              "      <td>...</td>\n",
              "      <td>...</td>\n",
              "      <td>...</td>\n",
              "      <td>...</td>\n",
              "      <td>...</td>\n",
              "      <td>...</td>\n",
              "    </tr>\n",
              "    <tr>\n",
              "      <th>155</th>\n",
              "      <td>4.83</td>\n",
              "      <td>573.250000</td>\n",
              "      <td>361.250000</td>\n",
              "      <td>643.125000</td>\n",
              "      <td>489.812500</td>\n",
              "      <td>666.875000</td>\n",
              "      <td>355.250000</td>\n",
              "      <td>712.312500</td>\n",
              "      <td>3943.687500</td>\n",
              "      <td>lab 2</td>\n",
              "    </tr>\n",
              "    <tr>\n",
              "      <th>156</th>\n",
              "      <td>4.47</td>\n",
              "      <td>678.375000</td>\n",
              "      <td>398.125000</td>\n",
              "      <td>678.250000</td>\n",
              "      <td>541.125000</td>\n",
              "      <td>704.000000</td>\n",
              "      <td>393.500000</td>\n",
              "      <td>788.812500</td>\n",
              "      <td>3928.187500</td>\n",
              "      <td>lab 2</td>\n",
              "    </tr>\n",
              "    <tr>\n",
              "      <th>157</th>\n",
              "      <td>4.63</td>\n",
              "      <td>634.000000</td>\n",
              "      <td>382.866667</td>\n",
              "      <td>657.466667</td>\n",
              "      <td>505.066667</td>\n",
              "      <td>719.200000</td>\n",
              "      <td>366.600000</td>\n",
              "      <td>792.133333</td>\n",
              "      <td>3861.200000</td>\n",
              "      <td>lab 2</td>\n",
              "    </tr>\n",
              "    <tr>\n",
              "      <th>158</th>\n",
              "      <td>4.35</td>\n",
              "      <td>615.312500</td>\n",
              "      <td>366.750000</td>\n",
              "      <td>642.937500</td>\n",
              "      <td>483.687500</td>\n",
              "      <td>675.625000</td>\n",
              "      <td>359.062500</td>\n",
              "      <td>730.125000</td>\n",
              "      <td>3859.062500</td>\n",
              "      <td>lab 2</td>\n",
              "    </tr>\n",
              "    <tr>\n",
              "      <th>159</th>\n",
              "      <td>4.43</td>\n",
              "      <td>575.200000</td>\n",
              "      <td>350.266667</td>\n",
              "      <td>648.333333</td>\n",
              "      <td>495.400000</td>\n",
              "      <td>679.800000</td>\n",
              "      <td>346.266667</td>\n",
              "      <td>718.733333</td>\n",
              "      <td>3903.333333</td>\n",
              "      <td>lab 2</td>\n",
              "    </tr>\n",
              "  </tbody>\n",
              "</table>\n",
              "<p>160 rows × 10 columns</p>\n",
              "</div>\n",
              "      <button class=\"colab-df-convert\" onclick=\"convertToInteractive('df-540102ea-c5b8-41b9-aa0c-9ac2d527ad58')\"\n",
              "              title=\"Convert this dataframe to an interactive table.\"\n",
              "              style=\"display:none;\">\n",
              "        \n",
              "  <svg xmlns=\"http://www.w3.org/2000/svg\" height=\"24px\"viewBox=\"0 0 24 24\"\n",
              "       width=\"24px\">\n",
              "    <path d=\"M0 0h24v24H0V0z\" fill=\"none\"/>\n",
              "    <path d=\"M18.56 5.44l.94 2.06.94-2.06 2.06-.94-2.06-.94-.94-2.06-.94 2.06-2.06.94zm-11 1L8.5 8.5l.94-2.06 2.06-.94-2.06-.94L8.5 2.5l-.94 2.06-2.06.94zm10 10l.94 2.06.94-2.06 2.06-.94-2.06-.94-.94-2.06-.94 2.06-2.06.94z\"/><path d=\"M17.41 7.96l-1.37-1.37c-.4-.4-.92-.59-1.43-.59-.52 0-1.04.2-1.43.59L10.3 9.45l-7.72 7.72c-.78.78-.78 2.05 0 2.83L4 21.41c.39.39.9.59 1.41.59.51 0 1.02-.2 1.41-.59l7.78-7.78 2.81-2.81c.8-.78.8-2.07 0-2.86zM5.41 20L4 18.59l7.72-7.72 1.47 1.35L5.41 20z\"/>\n",
              "  </svg>\n",
              "      </button>\n",
              "      \n",
              "  <style>\n",
              "    .colab-df-container {\n",
              "      display:flex;\n",
              "      flex-wrap:wrap;\n",
              "      gap: 12px;\n",
              "    }\n",
              "\n",
              "    .colab-df-convert {\n",
              "      background-color: #E8F0FE;\n",
              "      border: none;\n",
              "      border-radius: 50%;\n",
              "      cursor: pointer;\n",
              "      display: none;\n",
              "      fill: #1967D2;\n",
              "      height: 32px;\n",
              "      padding: 0 0 0 0;\n",
              "      width: 32px;\n",
              "    }\n",
              "\n",
              "    .colab-df-convert:hover {\n",
              "      background-color: #E2EBFA;\n",
              "      box-shadow: 0px 1px 2px rgba(60, 64, 67, 0.3), 0px 1px 3px 1px rgba(60, 64, 67, 0.15);\n",
              "      fill: #174EA6;\n",
              "    }\n",
              "\n",
              "    [theme=dark] .colab-df-convert {\n",
              "      background-color: #3B4455;\n",
              "      fill: #D2E3FC;\n",
              "    }\n",
              "\n",
              "    [theme=dark] .colab-df-convert:hover {\n",
              "      background-color: #434B5C;\n",
              "      box-shadow: 0px 1px 3px 1px rgba(0, 0, 0, 0.15);\n",
              "      filter: drop-shadow(0px 1px 2px rgba(0, 0, 0, 0.3));\n",
              "      fill: #FFFFFF;\n",
              "    }\n",
              "  </style>\n",
              "\n",
              "      <script>\n",
              "        const buttonEl =\n",
              "          document.querySelector('#df-540102ea-c5b8-41b9-aa0c-9ac2d527ad58 button.colab-df-convert');\n",
              "        buttonEl.style.display =\n",
              "          google.colab.kernel.accessAllowed ? 'block' : 'none';\n",
              "\n",
              "        async function convertToInteractive(key) {\n",
              "          const element = document.querySelector('#df-540102ea-c5b8-41b9-aa0c-9ac2d527ad58');\n",
              "          const dataTable =\n",
              "            await google.colab.kernel.invokeFunction('convertToInteractive',\n",
              "                                                     [key], {});\n",
              "          if (!dataTable) return;\n",
              "\n",
              "          const docLinkHtml = 'Like what you see? Visit the ' +\n",
              "            '<a target=\"_blank\" href=https://colab.research.google.com/notebooks/data_table.ipynb>data table notebook</a>'\n",
              "            + ' to learn more about interactive tables.';\n",
              "          element.innerHTML = '';\n",
              "          dataTable['output_type'] = 'display_data';\n",
              "          await google.colab.output.renderOutput(dataTable, element);\n",
              "          const docLink = document.createElement('div');\n",
              "          docLink.innerHTML = docLinkHtml;\n",
              "          element.appendChild(docLink);\n",
              "        }\n",
              "      </script>\n",
              "    </div>\n",
              "  </div>\n",
              "  "
            ]
          },
          "metadata": {},
          "execution_count": 2
        }
      ],
      "source": [
        "df = pd.read_excel('aria_data.xlsx', sheet_name='dataset')\n",
        "df"
      ]
    },
    {
      "cell_type": "markdown",
      "metadata": {
        "id": "Xzx0hvhVtZtZ"
      },
      "source": [
        "# **Data Cleaning**"
      ]
    },
    {
      "cell_type": "markdown",
      "source": [
        "Melihat informasi data seperti nilai null dan tipe data"
      ],
      "metadata": {
        "id": "UBnx21gvyKqX"
      }
    },
    {
      "cell_type": "code",
      "execution_count": 3,
      "metadata": {
        "colab": {
          "base_uri": "https://localhost:8080/"
        },
        "id": "zWa7_OUHtZtZ",
        "outputId": "de20c5ea-4ce6-4edc-c7c1-e8707fc29bc5"
      },
      "outputs": [
        {
          "output_type": "stream",
          "name": "stdout",
          "text": [
            "<class 'pandas.core.frame.DataFrame'>\n",
            "RangeIndex: 160 entries, 0 to 159\n",
            "Data columns (total 10 columns):\n",
            " #   Column       Non-Null Count  Dtype  \n",
            "---  ------       --------------  -----  \n",
            " 0   target       160 non-null    float64\n",
            " 1   v1           160 non-null    float64\n",
            " 2   v2           160 non-null    float64\n",
            " 3   v3           160 non-null    float64\n",
            " 4   v4           160 non-null    float64\n",
            " 5   v5           160 non-null    float64\n",
            " 6   v6           160 non-null    float64\n",
            " 7   v7           160 non-null    float64\n",
            " 8   v8           160 non-null    float64\n",
            " 9   sample_type  160 non-null    object \n",
            "dtypes: float64(9), object(1)\n",
            "memory usage: 12.6+ KB\n"
          ]
        }
      ],
      "source": [
        "df.info()"
      ]
    },
    {
      "cell_type": "code",
      "execution_count": 4,
      "metadata": {
        "colab": {
          "base_uri": "https://localhost:8080/"
        },
        "id": "X2xXrVtrtZtZ",
        "outputId": "05d43fae-ff83-4c69-d1fa-ef87a1882631"
      },
      "outputs": [
        {
          "output_type": "execute_result",
          "data": {
            "text/plain": [
              "target         False\n",
              "v1             False\n",
              "v2             False\n",
              "v3             False\n",
              "v4             False\n",
              "v5             False\n",
              "v6             False\n",
              "v7             False\n",
              "v8             False\n",
              "sample_type    False\n",
              "dtype: bool"
            ]
          },
          "metadata": {},
          "execution_count": 4
        }
      ],
      "source": [
        "df.isnull().any()"
      ]
    },
    {
      "cell_type": "code",
      "execution_count": 5,
      "metadata": {
        "colab": {
          "base_uri": "https://localhost:8080/"
        },
        "id": "3Ms0DEXYtZta",
        "outputId": "f4b7bc11-9ad1-4835-d80c-0b2c7bdc64aa"
      },
      "outputs": [
        {
          "output_type": "execute_result",
          "data": {
            "text/plain": [
              "False"
            ]
          },
          "metadata": {},
          "execution_count": 5
        }
      ],
      "source": [
        "df.duplicated().any()"
      ]
    },
    {
      "cell_type": "markdown",
      "source": [
        "Setelah dilakukan pengecekan singkat, tidak ada nilai null dan duplikat. Proses dilanjutkan mengubah value `lab 1` dan `lab 2` menjadi `1` dan `2` untuk mempermudah pemrosesan data."
      ],
      "metadata": {
        "id": "hJUBdTiHyVYl"
      }
    },
    {
      "cell_type": "code",
      "execution_count": 6,
      "metadata": {
        "id": "2UGSFkMptZta"
      },
      "outputs": [],
      "source": [
        "df['sample_type'] = df['sample_type'].replace({'lab 1': 1, 'lab 2': 2})"
      ]
    },
    {
      "cell_type": "markdown",
      "metadata": {
        "id": "hMCoo3jTtZta"
      },
      "source": [
        "# **Exploratory Data Analysis**"
      ]
    },
    {
      "cell_type": "code",
      "execution_count": 7,
      "metadata": {
        "colab": {
          "base_uri": "https://localhost:8080/",
          "height": 1000
        },
        "id": "UaPzElfCtZta",
        "outputId": "058b6425-8b26-4bb3-ca29-ee8ed83594b4"
      },
      "outputs": [
        {
          "output_type": "execute_result",
          "data": {
            "text/plain": [
              "array([[<matplotlib.axes._subplots.AxesSubplot object at 0x7f8c383e7ca0>,\n",
              "        <matplotlib.axes._subplots.AxesSubplot object at 0x7f8c383b5130>,\n",
              "        <matplotlib.axes._subplots.AxesSubplot object at 0x7f8c383d9550>],\n",
              "       [<matplotlib.axes._subplots.AxesSubplot object at 0x7f8c38374c70>,\n",
              "        <matplotlib.axes._subplots.AxesSubplot object at 0x7f8c38320100>,\n",
              "        <matplotlib.axes._subplots.AxesSubplot object at 0x7f8c383593d0>],\n",
              "       [<matplotlib.axes._subplots.AxesSubplot object at 0x7f8c383594c0>,\n",
              "        <matplotlib.axes._subplots.AxesSubplot object at 0x7f8c38306910>,\n",
              "        <matplotlib.axes._subplots.AxesSubplot object at 0x7f8c38263130>],\n",
              "       [<matplotlib.axes._subplots.AxesSubplot object at 0x7f8c3829c4f0>,\n",
              "        <matplotlib.axes._subplots.AxesSubplot object at 0x7f8c38247850>,\n",
              "        <matplotlib.axes._subplots.AxesSubplot object at 0x7f8c381e8df0>]],\n",
              "      dtype=object)"
            ]
          },
          "metadata": {},
          "execution_count": 7
        },
        {
          "output_type": "display_data",
          "data": {
            "text/plain": [
              "<Figure size 1080x1080 with 12 Axes>"
            ],
            "image/png": "[encoded data removed]"
          },
          "metadata": {
            "needs_background": "light"
          }
        }
      ],
      "source": [
        "df.hist(figsize = (15,15), bins=15)"
      ]
    },
    {
      "cell_type": "markdown",
      "source": [
        "**Insight**\n",
        "\n",
        "- Dari `sample_type`, lab1 memiliki data yang lebih banyak dibandingkan lab2 (100:60)\n",
        "- Hal yang menarik adalah pada data v1, v2, v3, v4, v5, v6 yang seperti memiliki dua kelompok persebaran.\n",
        "- v1 memiliki kelompok persebaran <400 dan >400\n",
        "- v2 memiliki kelompok persebaran <300 dan >300\n",
        "- v3 memiliki kelompok persebaran <500 dan >500\n",
        "- v4 memiliki kelompok persebaran <450 dan >450\n",
        "- v5 memiliki kelompok persebaran <600 dan >600\n",
        "- v6 memiliki kelompok persebaran <300 dan >300\n",
        "\n",
        "- Golongan nutrisi v1-v6 memiliki treatment yang menarik karena ada interval yang kosong yang seakan-akan terbagi menjadi 2 kluster. Hal ini akan dianalisis lebih dalam pada bivariate analysis."
      ],
      "metadata": {
        "id": "oX5GNs8iynAV"
      }
    },
    {
      "cell_type": "code",
      "source": [
        "print('V1 mean =', df['v1'].mean())\n",
        "print('V2 mean =', df['v2'].mean())\n",
        "print('V3 mean =', df['v3'].mean())\n",
        "print('V4 mean =', df['v4'].mean())\n",
        "print('V5 mean =', df['v5'].mean())\n",
        "print('V6 mean =', df['v6'].mean())\n",
        "print('V7 mean =', df['v7'].mean())\n",
        "print('V8 mean =', df['v8'].mean())"
      ],
      "metadata": {
        "colab": {
          "base_uri": "https://localhost:8080/"
        },
        "id": "qQDnuzJer_r9",
        "outputId": "5de31831-64c7-4c60-ec99-fb5b7ed68a2b"
      },
      "execution_count": 8,
      "outputs": [
        {
          "output_type": "stream",
          "name": "stdout",
          "text": [
            "V1 mean = 389.8924368212196\n",
            "V2 mean = 237.44267733134902\n",
            "V3 mean = 480.57304139254376\n",
            "V4 mean = 394.1096222326648\n",
            "V5 mean = 487.316519684628\n",
            "V6 mean = 251.45082021459885\n",
            "V7 mean = 714.7379264567667\n",
            "V8 mean = 4456.91323347431\n"
          ]
        }
      ]
    },
    {
      "cell_type": "markdown",
      "source": [
        "**Insight**\n",
        "\n",
        "V8 memiliki rata-rata dosis paling tinggi, diikuti v7, v5, c3, v4, v1, v2, dan v6.\n",
        "\n",
        "Dapat disimpulkan V8 merupakan nutrisi yang paling dibutuhkan jika didasarkan dalam percobaan ini"
      ],
      "metadata": {
        "id": "rDDO_x9F0r75"
      }
    },
    {
      "cell_type": "markdown",
      "source": [
        "**Menggolongkan data kategoris dan numerikal**"
      ],
      "metadata": {
        "id": "I07et8Pc2Ub8"
      }
    },
    {
      "cell_type": "code",
      "execution_count": 11,
      "metadata": {
        "id": "7UW_MiR7tZta"
      },
      "outputs": [],
      "source": [
        "categoricals = ['sample_type']\n",
        "numericals = ['v1','v2','v3','v4','v5','v6','v7','v8', 'target']"
      ]
    },
    {
      "cell_type": "code",
      "execution_count": 12,
      "metadata": {
        "colab": {
          "base_uri": "https://localhost:8080/",
          "height": 313
        },
        "id": "ykIItgCLtZta",
        "outputId": "37830683-14be-4c32-b159-5fa9bfc9e141"
      },
      "outputs": [
        {
          "output_type": "display_data",
          "data": {
            "text/plain": [
              "<Figure size 432x288 with 1 Axes>"
            ],
            "image/png": "[encoded data removed]"
          },
          "metadata": {
            "needs_background": "light"
          }
        },
        {
          "output_type": "display_data",
          "data": {
            "text/plain": [
              "<Figure size 216x216 with 0 Axes>"
            ]
          },
          "metadata": {}
        }
      ],
      "source": [
        "# create a bar plot\n",
        "sns.countplot(data=df, x='sample_type')\n",
        "\n",
        "ax = sns.countplot(data=df, x='sample_type')\n",
        "for p in ax.patches:\n",
        "    ax.annotate(int(p.get_height()), (p.get_x()+0.4, p.get_height()+0.1))\n",
        "\n",
        "# set the title and labels\n",
        "plt.title('Sample Type Count')\n",
        "plt.xlabel('Sample Type')\n",
        "plt.ylabel('Count')\n",
        "\n",
        "plt.figure(figsize=(3, 3))\n",
        "\n",
        "# show the plot\n",
        "plt.show()"
      ]
    },
    {
      "cell_type": "markdown",
      "source": [
        "**Melakukan Bivariate analysis untuk melihat relasi `sample_type` dan nutrisi**"
      ],
      "metadata": {
        "id": "U6PDFOpU2a0X"
      }
    },
    {
      "cell_type": "code",
      "execution_count": 13,
      "metadata": {
        "colab": {
          "base_uri": "https://localhost:8080/",
          "height": 896
        },
        "id": "NU4ZmQGatZtb",
        "outputId": "33787b1c-7014-4a3e-ee8e-3a1036cbd4e4"
      },
      "outputs": [
        {
          "output_type": "display_data",
          "data": {
            "text/plain": [
              "<Figure size 1152x1440 with 9 Axes>"
            ],
            "image/png": "[encoded data removed]"
          },
          "metadata": {
            "needs_background": "light"
          }
        }
      ],
      "source": [
        "\n",
        "cols = 4\n",
        "rows = 5\n",
        "num_cols = df[numericals].columns\n",
        "fig = plt.figure( figsize=(cols*4, rows*4))\n",
        "\n",
        "for i, col in enumerate(num_cols):\n",
        "    ax=fig.add_subplot(rows,cols,i+1)\n",
        "    sns.kdeplot(x = df[col], hue=df['sample_type'], ax = ax)\n",
        "    \n",
        "fig.tight_layout()  \n",
        "plt.show()"
      ]
    },
    {
      "cell_type": "markdown",
      "source": [
        "**Insight**\n",
        "\n",
        "Dari plot di atas, dapat ditemukan beberapa insight tentang relasi lab.\n",
        "\n",
        "- v1  dan v3 memiliki relasi yang unik karena dosis terbagi berdasarkan `sample_type`<br>\n",
        "    Dalam nutrisi v1, lab1 menangani dosis < 400, dan lab 2 menangani dosis > 400 <br>\n",
        "    Dalam nutrisi v3, lab1 menangani dosis < 500, dan lab 2 menangani dosis > 500\n",
        "\n",
        "- Jika dilihat dari v1 - v6, lab 2 memiliki dosis yang lebih tinggi ketimbang lab 2. Hal ini bisa dilihat karena lab 1 hanya memiliki treshold tertentu dimana setelah treshold tersebut, kategori masuk ke lab 2.\n",
        "\n",
        "- Hanya saja, untuk ukuran densitas (banyaknya data), sample `lab 1` memiliki data yang lebih banyak. Bisa disimpulkan, sample `lab 1` merupakan tipe sample yang lebih banyak ditemui, yakni sample yang memiliki dosis rendah dibandingkan lab 2 (untuk nutrisi-nutrisi tertentu)\n",
        "\n",
        "- Karena `sample_type` sudah dapat direpresentasikan melalui dosis v1-v6, Berdasarkan hal ini, kolom `sample_type` akan didrop dari feature pemodelan karena perbedaan dosis nutrisi v1-v6 akan lebih signifikan karena data berupa numerikal, bukan kategorikal."
      ],
      "metadata": {
        "id": "L6B6BON23iMm"
      }
    },
    {
      "cell_type": "markdown",
      "source": [
        "**Untuk melihat perbandingan relasi antar `sample_type` dan `target`, kita akan melihat mean, max, dan min dari setiap `sample_type`"
      ],
      "metadata": {
        "id": "gZcrzbku-M_g"
      }
    },
    {
      "cell_type": "code",
      "source": [
        "dflab1 = df[df['sample_type']==1]\n",
        "dflab2 = df[df['sample_type']==2]\n",
        "\n",
        "print('**** Sample Type -- Target Comparison ****')\n",
        "print(' ')\n",
        "print('---- LAB 1 ----')\n",
        "print('Rata-rata : ', dflab1['target'].mean())\n",
        "print('Max       : ', dflab1['target'].max())\n",
        "print('Min       : ', dflab1['target'].min())\n",
        "\n",
        "print(' ')\n",
        "print('---- LAB 2 ----')\n",
        "print('Rata-rata : ', dflab2['target'].mean())\n",
        "print('Max       : ', dflab2['target'].max())\n",
        "print('Min       : ', dflab2['target'].min())"
      ],
      "metadata": {
        "colab": {
          "base_uri": "https://localhost:8080/"
        },
        "id": "IQvgFrMb6p2W",
        "outputId": "9a3be830-da28-4a25-be7b-5779de9ae5e1"
      },
      "execution_count": 45,
      "outputs": [
        {
          "output_type": "stream",
          "name": "stdout",
          "text": [
            "**** Sample Type -- Target Comparison ****\n",
            " \n",
            "---- LAB 1 ----\n",
            "Rata-rata :  4.7219999999999995\n",
            "Max       :  5.26\n",
            "Min       :  4.359999999999999\n",
            " \n",
            "---- LAB 2 ----\n",
            "Rata-rata :  4.753333333333333\n",
            "Max       :  5.109999999999999\n",
            "Min       :  4.13\n"
          ]
        }
      ]
    },
    {
      "cell_type": "markdown",
      "source": [
        "Jika dilihat insight ini dengan insight yang sebelumnya, terlihat bahwa lab 2 dan lab 1 tidak terlalu memiliki perbedaan yang signifikan.\n",
        "\n",
        "Karena lab 1 dan lab 2 memiliki perbedaan dari segi dosis, maka hal yang mempengaruhi bukan banyak/sedikitnya dosis, tapi lebih kepada kombinasi dosis antar nutrisi.\n",
        "\n",
        "Langkah selanjutnya akan dilanjutkan untuk melihat korelasi antar nutrisi, serta nutrisi dan target."
      ],
      "metadata": {
        "id": "rtC0QNOY_Vac"
      }
    },
    {
      "cell_type": "markdown",
      "source": [
        "**Untuk mencegah data-leak saat melakukan kalkulasi korelasi, data akan dilakukan split terlebih dahulu**"
      ],
      "metadata": {
        "id": "vwHmolhA_2TM"
      }
    },
    {
      "cell_type": "markdown",
      "metadata": {
        "id": "gVq_bIfJtZtb"
      },
      "source": [
        "# **Data Splitting**"
      ]
    },
    {
      "cell_type": "code",
      "execution_count": 15,
      "metadata": {
        "colab": {
          "base_uri": "https://localhost:8080/"
        },
        "id": "bXRl8JHUtZtb",
        "outputId": "010a9c64-40de-4d88-a0fe-a204a1a64b1e"
      },
      "outputs": [
        {
          "output_type": "stream",
          "name": "stdout",
          "text": [
            "Train Shape:\n",
            "(128, 8)\n",
            "(128,)\n",
            "-------------\n",
            "Test Shape:\n",
            "(32, 8)\n",
            "(32,)\n"
          ]
        }
      ],
      "source": [
        "from sklearn.model_selection import train_test_split\n",
        "\n",
        "df = df.sample(n=len(df), replace=False) # data diacak terlebih dahulu\n",
        "\n",
        "X = df[['v1', 'v2', 'v3', 'v4', 'v5', 'v6', 'v7', 'v8']] # pilih variabel fitur, sample_type sudah didrop\n",
        "y = df['target'] # pilih variabel target\n",
        "\n",
        "X_train, X_test, y_train, y_test = train_test_split(X, y, test_size=0.2, random_state=42)\n",
        "\n",
        "print('Train Shape:')\n",
        "print(X_train.shape)\n",
        "print(y_train.shape)\n",
        "print('-------------')\n",
        "print('Test Shape:')\n",
        "print(X_test.shape)\n",
        "print(y_test.shape)\n"
      ]
    },
    {
      "cell_type": "code",
      "execution_count": 16,
      "metadata": {
        "colab": {
          "base_uri": "https://localhost:8080/",
          "height": 423
        },
        "id": "5HloiIpntZtb",
        "outputId": "eacc53ef-7902-4e14-b624-77ad1b40bc32"
      },
      "outputs": [
        {
          "output_type": "execute_result",
          "data": {
            "text/plain": [
              "             v1          v2          v3          v4          v5          v6  \\\n",
              "32   272.066667  181.066667  348.933333  313.733333  373.333333  201.133333   \n",
              "144  652.666667  410.466667  687.533333  552.866667  714.733333  389.266667   \n",
              "80   290.733333  211.400000  386.400000  361.600000  421.666667  236.333333   \n",
              "149  597.733333  370.666667  670.266667  484.800000  674.666667  357.466667   \n",
              "13   280.866667  197.400000  374.666667  339.266667  407.866667  212.333333   \n",
              "..          ...         ...         ...         ...         ...         ...   \n",
              "71   286.687500  185.250000  371.125000  342.625000  409.500000  212.437500   \n",
              "115  552.875000  211.812500  574.812500  366.375000  465.812500  201.687500   \n",
              "9    268.266667  178.800000  370.000000  342.466667  384.533333  204.733333   \n",
              "130  663.375000  422.812500  722.312500  541.750000  721.000000  415.375000   \n",
              "137  651.533333  371.600000  657.533333  485.066667  656.666667  355.533333   \n",
              "\n",
              "             v7           v8  target  \n",
              "32   626.266667  4142.800000    4.57  \n",
              "144  757.666667  3883.533333    4.65  \n",
              "80   725.000000  4557.866667    4.45  \n",
              "149  746.066667  3892.933333    4.69  \n",
              "13   716.266667  4624.000000    4.66  \n",
              "..          ...          ...     ...  \n",
              "71   697.812500  4431.437500    4.88  \n",
              "115  651.000000  4428.312500    4.98  \n",
              "9    690.333333  4255.200000    4.72  \n",
              "130  738.125000  3836.812500    4.89  \n",
              "137  715.133333  3958.733333    4.69  \n",
              "\n",
              "[128 rows x 9 columns]"
            ],
            "text/html": [
              "\n",
              "  <div id=\"df-a0c34bc6-c955-4d6a-91dc-f7c3e7e5520a\">\n",
              "    <div class=\"colab-df-container\">\n",
              "      <div>\n",
              "<style scoped>\n",
              "    .dataframe tbody tr th:only-of-type {\n",
              "        vertical-align: middle;\n",
              "    }\n",
              "\n",
              "    .dataframe tbody tr th {\n",
              "        vertical-align: top;\n",
              "    }\n",
              "\n",
              "    .dataframe thead th {\n",
              "        text-align: right;\n",
              "    }\n",
              "</style>\n",
              "<table border=\"1\" class=\"dataframe\">\n",
              "  <thead>\n",
              "    <tr style=\"text-align: right;\">\n",
              "      <th></th>\n",
              "      <th>v1</th>\n",
              "      <th>v2</th>\n",
              "      <th>v3</th>\n",
              "      <th>v4</th>\n",
              "      <th>v5</th>\n",
              "      <th>v6</th>\n",
              "      <th>v7</th>\n",
              "      <th>v8</th>\n",
              "      <th>target</th>\n",
              "    </tr>\n",
              "  </thead>\n",
              "  <tbody>\n",
              "    <tr>\n",
              "      <th>32</th>\n",
              "      <td>272.066667</td>\n",
              "      <td>181.066667</td>\n",
              "      <td>348.933333</td>\n",
              "      <td>313.733333</td>\n",
              "      <td>373.333333</td>\n",
              "      <td>201.133333</td>\n",
              "      <td>626.266667</td>\n",
              "      <td>4142.800000</td>\n",
              "      <td>4.57</td>\n",
              "    </tr>\n",
              "    <tr>\n",
              "      <th>144</th>\n",
              "      <td>652.666667</td>\n",
              "      <td>410.466667</td>\n",
              "      <td>687.533333</td>\n",
              "      <td>552.866667</td>\n",
              "      <td>714.733333</td>\n",
              "      <td>389.266667</td>\n",
              "      <td>757.666667</td>\n",
              "      <td>3883.533333</td>\n",
              "      <td>4.65</td>\n",
              "    </tr>\n",
              "    <tr>\n",
              "      <th>80</th>\n",
              "      <td>290.733333</td>\n",
              "      <td>211.400000</td>\n",
              "      <td>386.400000</td>\n",
              "      <td>361.600000</td>\n",
              "      <td>421.666667</td>\n",
              "      <td>236.333333</td>\n",
              "      <td>725.000000</td>\n",
              "      <td>4557.866667</td>\n",
              "      <td>4.45</td>\n",
              "    </tr>\n",
              "    <tr>\n",
              "      <th>149</th>\n",
              "      <td>597.733333</td>\n",
              "      <td>370.666667</td>\n",
              "      <td>670.266667</td>\n",
              "      <td>484.800000</td>\n",
              "      <td>674.666667</td>\n",
              "      <td>357.466667</td>\n",
              "      <td>746.066667</td>\n",
              "      <td>3892.933333</td>\n",
              "      <td>4.69</td>\n",
              "    </tr>\n",
              "    <tr>\n",
              "      <th>13</th>\n",
              "      <td>280.866667</td>\n",
              "      <td>197.400000</td>\n",
              "      <td>374.666667</td>\n",
              "      <td>339.266667</td>\n",
              "      <td>407.866667</td>\n",
              "      <td>212.333333</td>\n",
              "      <td>716.266667</td>\n",
              "      <td>4624.000000</td>\n",
              "      <td>4.66</td>\n",
              "    </tr>\n",
              "    <tr>\n",
              "      <th>...</th>\n",
              "      <td>...</td>\n",
              "      <td>...</td>\n",
              "      <td>...</td>\n",
              "      <td>...</td>\n",
              "      <td>...</td>\n",
              "      <td>...</td>\n",
              "      <td>...</td>\n",
              "      <td>...</td>\n",
              "      <td>...</td>\n",
              "    </tr>\n",
              "    <tr>\n",
              "      <th>71</th>\n",
              "      <td>286.687500</td>\n",
              "      <td>185.250000</td>\n",
              "      <td>371.125000</td>\n",
              "      <td>342.625000</td>\n",
              "      <td>409.500000</td>\n",
              "      <td>212.437500</td>\n",
              "      <td>697.812500</td>\n",
              "      <td>4431.437500</td>\n",
              "      <td>4.88</td>\n",
              "    </tr>\n",
              "    <tr>\n",
              "      <th>115</th>\n",
              "      <td>552.875000</td>\n",
              "      <td>211.812500</td>\n",
              "      <td>574.812500</td>\n",
              "      <td>366.375000</td>\n",
              "      <td>465.812500</td>\n",
              "      <td>201.687500</td>\n",
              "      <td>651.000000</td>\n",
              "      <td>4428.312500</td>\n",
              "      <td>4.98</td>\n",
              "    </tr>\n",
              "    <tr>\n",
              "      <th>9</th>\n",
              "      <td>268.266667</td>\n",
              "      <td>178.800000</td>\n",
              "      <td>370.000000</td>\n",
              "      <td>342.466667</td>\n",
              "      <td>384.533333</td>\n",
              "      <td>204.733333</td>\n",
              "      <td>690.333333</td>\n",
              "      <td>4255.200000</td>\n",
              "      <td>4.72</td>\n",
              "    </tr>\n",
              "    <tr>\n",
              "      <th>130</th>\n",
              "      <td>663.375000</td>\n",
              "      <td>422.812500</td>\n",
              "      <td>722.312500</td>\n",
              "      <td>541.750000</td>\n",
              "      <td>721.000000</td>\n",
              "      <td>415.375000</td>\n",
              "      <td>738.125000</td>\n",
              "      <td>3836.812500</td>\n",
              "      <td>4.89</td>\n",
              "    </tr>\n",
              "    <tr>\n",
              "      <th>137</th>\n",
              "      <td>651.533333</td>\n",
              "      <td>371.600000</td>\n",
              "      <td>657.533333</td>\n",
              "      <td>485.066667</td>\n",
              "      <td>656.666667</td>\n",
              "      <td>355.533333</td>\n",
              "      <td>715.133333</td>\n",
              "      <td>3958.733333</td>\n",
              "      <td>4.69</td>\n",
              "    </tr>\n",
              "  </tbody>\n",
              "</table>\n",
              "<p>128 rows × 9 columns</p>\n",
              "</div>\n",
              "      <button class=\"colab-df-convert\" onclick=\"convertToInteractive('df-a0c34bc6-c955-4d6a-91dc-f7c3e7e5520a')\"\n",
              "              title=\"Convert this dataframe to an interactive table.\"\n",
              "              style=\"display:none;\">\n",
              "        \n",
              "  <svg xmlns=\"http://www.w3.org/2000/svg\" height=\"24px\"viewBox=\"0 0 24 24\"\n",
              "       width=\"24px\">\n",
              "    <path d=\"M0 0h24v24H0V0z\" fill=\"none\"/>\n",
              "    <path d=\"M18.56 5.44l.94 2.06.94-2.06 2.06-.94-2.06-.94-.94-2.06-.94 2.06-2.06.94zm-11 1L8.5 8.5l.94-2.06 2.06-.94-2.06-.94L8.5 2.5l-.94 2.06-2.06.94zm10 10l.94 2.06.94-2.06 2.06-.94-2.06-.94-.94-2.06-.94 2.06-2.06.94z\"/><path d=\"M17.41 7.96l-1.37-1.37c-.4-.4-.92-.59-1.43-.59-.52 0-1.04.2-1.43.59L10.3 9.45l-7.72 7.72c-.78.78-.78 2.05 0 2.83L4 21.41c.39.39.9.59 1.41.59.51 0 1.02-.2 1.41-.59l7.78-7.78 2.81-2.81c.8-.78.8-2.07 0-2.86zM5.41 20L4 18.59l7.72-7.72 1.47 1.35L5.41 20z\"/>\n",
              "  </svg>\n",
              "      </button>\n",
              "      \n",
              "  <style>\n",
              "    .colab-df-container {\n",
              "      display:flex;\n",
              "      flex-wrap:wrap;\n",
              "      gap: 12px;\n",
              "    }\n",
              "\n",
              "    .colab-df-convert {\n",
              "      background-color: #E8F0FE;\n",
              "      border: none;\n",
              "      border-radius: 50%;\n",
              "      cursor: pointer;\n",
              "      display: none;\n",
              "      fill: #1967D2;\n",
              "      height: 32px;\n",
              "      padding: 0 0 0 0;\n",
              "      width: 32px;\n",
              "    }\n",
              "\n",
              "    .colab-df-convert:hover {\n",
              "      background-color: #E2EBFA;\n",
              "      box-shadow: 0px 1px 2px rgba(60, 64, 67, 0.3), 0px 1px 3px 1px rgba(60, 64, 67, 0.15);\n",
              "      fill: #174EA6;\n",
              "    }\n",
              "\n",
              "    [theme=dark] .colab-df-convert {\n",
              "      background-color: #3B4455;\n",
              "      fill: #D2E3FC;\n",
              "    }\n",
              "\n",
              "    [theme=dark] .colab-df-convert:hover {\n",
              "      background-color: #434B5C;\n",
              "      box-shadow: 0px 1px 3px 1px rgba(0, 0, 0, 0.15);\n",
              "      filter: drop-shadow(0px 1px 2px rgba(0, 0, 0, 0.3));\n",
              "      fill: #FFFFFF;\n",
              "    }\n",
              "  </style>\n",
              "\n",
              "      <script>\n",
              "        const buttonEl =\n",
              "          document.querySelector('#df-a0c34bc6-c955-4d6a-91dc-f7c3e7e5520a button.colab-df-convert');\n",
              "        buttonEl.style.display =\n",
              "          google.colab.kernel.accessAllowed ? 'block' : 'none';\n",
              "\n",
              "        async function convertToInteractive(key) {\n",
              "          const element = document.querySelector('#df-a0c34bc6-c955-4d6a-91dc-f7c3e7e5520a');\n",
              "          const dataTable =\n",
              "            await google.colab.kernel.invokeFunction('convertToInteractive',\n",
              "                                                     [key], {});\n",
              "          if (!dataTable) return;\n",
              "\n",
              "          const docLinkHtml = 'Like what you see? Visit the ' +\n",
              "            '<a target=\"_blank\" href=https://colab.research.google.com/notebooks/data_table.ipynb>data table notebook</a>'\n",
              "            + ' to learn more about interactive tables.';\n",
              "          element.innerHTML = '';\n",
              "          dataTable['output_type'] = 'display_data';\n",
              "          await google.colab.output.renderOutput(dataTable, element);\n",
              "          const docLink = document.createElement('div');\n",
              "          docLink.innerHTML = docLinkHtml;\n",
              "          element.appendChild(docLink);\n",
              "        }\n",
              "      </script>\n",
              "    </div>\n",
              "  </div>\n",
              "  "
            ]
          },
          "metadata": {},
          "execution_count": 16
        }
      ],
      "source": [
        "y_train_df = pd.DataFrame(y_train, columns=['target'])\n",
        "dftrain = pd.concat([X_train, y_train_df], axis=1)\n",
        "dftrain "
      ]
    },
    {
      "cell_type": "markdown",
      "source": [
        "**Melakukan pengecekan outlier melalui boxplot**"
      ],
      "metadata": {
        "id": "CGlgG_6jAOJC"
      }
    },
    {
      "cell_type": "code",
      "execution_count": 17,
      "metadata": {
        "colab": {
          "base_uri": "https://localhost:8080/",
          "height": 873
        },
        "id": "yWzzEhXjtZtc",
        "outputId": "5a65bf8e-bebc-410b-920e-cfa90278abca"
      },
      "outputs": [
        {
          "output_type": "display_data",
          "data": {
            "text/plain": [
              "<Figure size 864x864 with 9 Axes>"
            ],
            "image/png": "[encoded data removed]"
          },
          "metadata": {
            "needs_background": "light"
          }
        }
      ],
      "source": [
        "cols = 3\n",
        "rows = 3\n",
        "num_cols = dftrain[numericals].columns\n",
        "fig = plt.figure( figsize=(cols*4, rows*4))\n",
        "\n",
        "for i, col in enumerate(num_cols):\n",
        "    ax=fig.add_subplot(rows,cols,i+1)\n",
        "    sns.boxplot(x = dftrain[col], ax = ax)\n",
        "    \n",
        "fig.tight_layout()  \n",
        "plt.show()"
      ]
    },
    {
      "cell_type": "markdown",
      "source": [
        "Terlihat ada beberapa outlier dari visualisasi boxplot. Hanya saja, outlier disini sangat tidak baik untuk didrop karena ada hal yang merepresentasikan `sample_type` lab 2.\n",
        "\n",
        "contohnya saja, pada v2, dosis >300 dikategorikan ke outlier, padahal, untuk dosis 300 ke atas hanya ada pada kategori lab 2.\n",
        "\n",
        "Berdasarkan hal ini, outlier tidak akan ditangani karena akan mengurangi informasi data (ditambah data yang juga tergolong sedikit)"
      ],
      "metadata": {
        "id": "yTTPjh_rAVBZ"
      }
    },
    {
      "cell_type": "markdown",
      "source": [
        "**langkah selanjutnya, melakukan pengecekan outlier menggunakan metode IQR**"
      ],
      "metadata": {
        "id": "v9PRnWmTA7I8"
      }
    },
    {
      "cell_type": "code",
      "execution_count": 18,
      "metadata": {
        "colab": {
          "base_uri": "https://localhost:8080/"
        },
        "id": "vfDcA23XtZtc",
        "outputId": "7faf2407-b89c-4dec-d268-ba227b5e6e27"
      },
      "outputs": [
        {
          "output_type": "stream",
          "name": "stdout",
          "text": [
            "--------------------\n",
            "v1\n",
            "count of outlier:  0\n",
            "percentage of outlier:  0.0 %\n",
            "--------------------\n",
            "v2\n",
            "count of outlier:  14\n",
            "percentage of outlier:  10.9375 %\n",
            "--------------------\n",
            "v3\n",
            "count of outlier:  0\n",
            "percentage of outlier:  0.0 %\n",
            "--------------------\n",
            "v4\n",
            "count of outlier:  0\n",
            "percentage of outlier:  0.0 %\n",
            "--------------------\n",
            "v5\n",
            "count of outlier:  0\n",
            "percentage of outlier:  0.0 %\n",
            "--------------------\n",
            "v6\n",
            "count of outlier:  1\n",
            "percentage of outlier:  0.78125 %\n",
            "--------------------\n",
            "v7\n",
            "count of outlier:  0\n",
            "percentage of outlier:  0.0 %\n",
            "--------------------\n",
            "v8\n",
            "count of outlier:  0\n",
            "percentage of outlier:  0.0 %\n",
            "--------------------\n",
            "target\n",
            "count of outlier:  0\n",
            "percentage of outlier:  0.0 %\n"
          ]
        }
      ],
      "source": [
        "def outlier_analysis(dftrain,col):\n",
        "  skewness = dftrain[col].skew()\n",
        "  if skewness>=-0.5 and skewness<=0.5:\n",
        "    upper = dftrain[col].mean() + 3*dftrain[col].std()\n",
        "    lower = dftrain[col].mean() - 3*dftrain[col].std()\n",
        "  else:\n",
        "    Q1 = dftrain[col].quantile(0.25)\n",
        "    Q3 = dftrain[col].quantile(0.75)\n",
        "    IQR = Q3 - Q1\n",
        "\n",
        "    upper = Q3 + (3 * IQR)\n",
        "    lower = Q1 - (3 * IQR)\n",
        "\n",
        "  no_outliers = dftrain[(dftrain[col]>=lower) &  (dftrain[col]<=upper)]\n",
        "  outliers = dftrain[(dftrain[col]<lower) | (dftrain[col]>upper)]\n",
        "\n",
        "  return outliers,no_outliers, upper, lower\n",
        "\n",
        "cols_name = numericals\n",
        "\n",
        "for i in cols_name:\n",
        "    out,no_out, up, low = outlier_analysis (dftrain,i)\n",
        "    print('-'*20)\n",
        "    print(i)\n",
        "    print('count of outlier: ', len(out))\n",
        "    print('percentage of outlier: ', (len(out)/len(dftrain))*100, '%') "
      ]
    },
    {
      "cell_type": "markdown",
      "source": [
        "Sesuai perkiraan, outlier banyak terletak pada v2. Seperti argumen sebelumnya, outlier tidak akan dihandle karena akan mengurangi informasi data."
      ],
      "metadata": {
        "id": "Q922uISgBIMu"
      }
    },
    {
      "cell_type": "markdown",
      "source": [
        "**Melakukan korelasi heatmap untuk melihat korelasi antar nutrisi, serta target dan nutrisi**"
      ],
      "metadata": {
        "id": "PUgr8ZWKBQhO"
      }
    },
    {
      "cell_type": "code",
      "execution_count": 19,
      "metadata": {
        "colab": {
          "base_uri": "https://localhost:8080/",
          "height": 868
        },
        "id": "N0__sNn9tZtf",
        "outputId": "a09dd4a2-920a-4bbe-b267-903e34f27a4a"
      },
      "outputs": [
        {
          "output_type": "display_data",
          "data": {
            "text/plain": [
              "<Figure size 1080x1080 with 2 Axes>"
            ],
            "image/png": "[encoded data removed]"
          },
          "metadata": {
            "needs_background": "light"
          }
        },
        {
          "output_type": "display_data",
          "data": {
            "text/plain": [
              "<Figure size 1800x1800 with 0 Axes>"
            ]
          },
          "metadata": {}
        }
      ],
      "source": [
        "f, ax = plt.subplots(figsize=(15, 15))\n",
        "sns.heatmap(dftrain.corr(method='pearson'), vmax=.8, square=True, annot=True, cmap='crest', annot_kws={\"fontsize\":10});\n",
        "\n",
        "plt.figure(figsize=(25,25))\n",
        "plt.show()"
      ]
    },
    {
      "cell_type": "markdown",
      "source": [
        "Jika dilihat dari heatmap, v1, v3, v8 memiliki korelasi yang relatif rendah yang sangat memungkinkan untuk didrop. Hanya saja, korelasi antar nutrisi-nutrisi bisa dikatakan relatif tinggi. Sepertinya data ini memiliki multicollinearity tinggi yang akan berpengaruh kepada kestabilan model.\n",
        "\n",
        "**Oleh karena itu, akan dilakukan pengecekan multicollinearity**"
      ],
      "metadata": {
        "id": "gXI87EWeBeX8"
      }
    },
    {
      "cell_type": "code",
      "execution_count": 20,
      "metadata": {
        "colab": {
          "base_uri": "https://localhost:8080/"
        },
        "id": "RMDUUdLltZtg",
        "outputId": "6cd74b19-d48b-4678-d223-3f4680733433"
      },
      "outputs": [
        {
          "output_type": "stream",
          "name": "stdout",
          "text": [
            "                   VIF\n",
            "0      v1   554.102501\n",
            "1      v2   559.773836\n",
            "2      v3  1106.339525\n",
            "3      v4  1672.923069\n",
            "4      v5  1328.082549\n",
            "5      v6   764.303589\n",
            "6      v7  1060.238864\n",
            "7      v8   543.599371\n",
            "8  target   377.971260\n"
          ]
        }
      ],
      "source": [
        "from statsmodels.stats.outliers_influence import variance_inflation_factor\n",
        "\n",
        "vif_data = pd.DataFrame()\n",
        "vif_data[''] = dftrain.columns\n",
        "\n",
        "vif_data['VIF'] = [variance_inflation_factor(dftrain.values, i)\n",
        "                        for i in range(len(dftrain.columns))]\n",
        "\n",
        "print(vif_data)"
      ]
    },
    {
      "cell_type": "markdown",
      "source": [
        "Dari hasil ini, ditemukan multicollinearity yang sangat tinggi antar fitur. Berdasarkan hal ini, ketimbang melakukan drop, akan dilakukan PCA agar mengamankan informasi-informasi dari setiap feature dan sekaligus mengatasi multicollinearity."
      ],
      "metadata": {
        "id": "tIcxBWqRCGSZ"
      }
    },
    {
      "cell_type": "markdown",
      "metadata": {
        "id": "CXGGZiLJtZth"
      },
      "source": [
        "# **Feature Engineering**"
      ]
    },
    {
      "cell_type": "markdown",
      "metadata": {
        "id": "LruXTctvtZth"
      },
      "source": [
        "## **Feature Scaling**"
      ]
    },
    {
      "cell_type": "markdown",
      "source": [
        "Scaler yang dipilih adalah robust scaler karena scaler ini cocok untuk data yang memiliki banyak outlier (v2)"
      ],
      "metadata": {
        "id": "CeCC25qkCWk1"
      }
    },
    {
      "cell_type": "code",
      "execution_count": 21,
      "metadata": {
        "colab": {
          "base_uri": "https://localhost:8080/",
          "height": 423
        },
        "id": "TQNUNJI2tZth",
        "outputId": "6f80a44e-ffee-4fb1-ca0b-76607074ba49"
      },
      "outputs": [
        {
          "output_type": "execute_result",
          "data": {
            "text/plain": [
              "            0         1         2         3         4         5         6  \\\n",
              "0   -0.095997 -0.537830 -0.301958 -0.876985 -1.078740 -0.501877 -1.336499   \n",
              "1    1.333532  4.685451  1.346537  2.782986  3.369107  3.285645  0.550492   \n",
              "2   -0.025885  0.152839 -0.119549 -0.144379 -0.449041  0.206774  0.081377   \n",
              "3    1.127203  3.779232  1.262473  1.741215  2.847108  2.645444  0.383908   \n",
              "4   -0.062944 -0.165931 -0.176674 -0.486193 -0.628830 -0.276397 -0.044039   \n",
              "..        ...       ...       ...       ...       ...       ...       ...   \n",
              "123 -0.041081 -0.442579 -0.193917 -0.434794 -0.607551 -0.274300 -0.309053   \n",
              "124  0.958715  0.162231  0.797749 -0.071296  0.126103 -0.490720 -0.981312   \n",
              "125 -0.110269 -0.589441 -0.199394 -0.437217 -0.932823 -0.429401 -0.416459   \n",
              "126  1.373752  4.966558  1.515862  2.612844  3.450750  3.811261  0.269861   \n",
              "127  1.329275  3.800484  1.200480  1.745297  2.612599  2.606522 -0.060315   \n",
              "\n",
              "            7  \n",
              "0   -1.196048  \n",
              "1   -1.961022  \n",
              "2    0.028620  \n",
              "3   -1.933287  \n",
              "4    0.223749  \n",
              "..        ...  \n",
              "123 -0.344413  \n",
              "124 -0.353634  \n",
              "125 -0.864408  \n",
              "126 -2.098874  \n",
              "127 -1.739142  \n",
              "\n",
              "[128 rows x 8 columns]"
            ],
            "text/html": [
              "\n",
              "  <div id=\"df-84575f21-ac00-4d10-896a-e5b070ff2429\">\n",
              "    <div class=\"colab-df-container\">\n",
              "      <div>\n",
              "<style scoped>\n",
              "    .dataframe tbody tr th:only-of-type {\n",
              "        vertical-align: middle;\n",
              "    }\n",
              "\n",
              "    .dataframe tbody tr th {\n",
              "        vertical-align: top;\n",
              "    }\n",
              "\n",
              "    .dataframe thead th {\n",
              "        text-align: right;\n",
              "    }\n",
              "</style>\n",
              "<table border=\"1\" class=\"dataframe\">\n",
              "  <thead>\n",
              "    <tr style=\"text-align: right;\">\n",
              "      <th></th>\n",
              "      <th>0</th>\n",
              "      <th>1</th>\n",
              "      <th>2</th>\n",
              "      <th>3</th>\n",
              "      <th>4</th>\n",
              "      <th>5</th>\n",
              "      <th>6</th>\n",
              "      <th>7</th>\n",
              "    </tr>\n",
              "  </thead>\n",
              "  <tbody>\n",
              "    <tr>\n",
              "      <th>0</th>\n",
              "      <td>-0.095997</td>\n",
              "      <td>-0.537830</td>\n",
              "      <td>-0.301958</td>\n",
              "      <td>-0.876985</td>\n",
              "      <td>-1.078740</td>\n",
              "      <td>-0.501877</td>\n",
              "      <td>-1.336499</td>\n",
              "      <td>-1.196048</td>\n",
              "    </tr>\n",
              "    <tr>\n",
              "      <th>1</th>\n",
              "      <td>1.333532</td>\n",
              "      <td>4.685451</td>\n",
              "      <td>1.346537</td>\n",
              "      <td>2.782986</td>\n",
              "      <td>3.369107</td>\n",
              "      <td>3.285645</td>\n",
              "      <td>0.550492</td>\n",
              "      <td>-1.961022</td>\n",
              "    </tr>\n",
              "    <tr>\n",
              "      <th>2</th>\n",
              "      <td>-0.025885</td>\n",
              "      <td>0.152839</td>\n",
              "      <td>-0.119549</td>\n",
              "      <td>-0.144379</td>\n",
              "      <td>-0.449041</td>\n",
              "      <td>0.206774</td>\n",
              "      <td>0.081377</td>\n",
              "      <td>0.028620</td>\n",
              "    </tr>\n",
              "    <tr>\n",
              "      <th>3</th>\n",
              "      <td>1.127203</td>\n",
              "      <td>3.779232</td>\n",
              "      <td>1.262473</td>\n",
              "      <td>1.741215</td>\n",
              "      <td>2.847108</td>\n",
              "      <td>2.645444</td>\n",
              "      <td>0.383908</td>\n",
              "      <td>-1.933287</td>\n",
              "    </tr>\n",
              "    <tr>\n",
              "      <th>4</th>\n",
              "      <td>-0.062944</td>\n",
              "      <td>-0.165931</td>\n",
              "      <td>-0.176674</td>\n",
              "      <td>-0.486193</td>\n",
              "      <td>-0.628830</td>\n",
              "      <td>-0.276397</td>\n",
              "      <td>-0.044039</td>\n",
              "      <td>0.223749</td>\n",
              "    </tr>\n",
              "    <tr>\n",
              "      <th>...</th>\n",
              "      <td>...</td>\n",
              "      <td>...</td>\n",
              "      <td>...</td>\n",
              "      <td>...</td>\n",
              "      <td>...</td>\n",
              "      <td>...</td>\n",
              "      <td>...</td>\n",
              "      <td>...</td>\n",
              "    </tr>\n",
              "    <tr>\n",
              "      <th>123</th>\n",
              "      <td>-0.041081</td>\n",
              "      <td>-0.442579</td>\n",
              "      <td>-0.193917</td>\n",
              "      <td>-0.434794</td>\n",
              "      <td>-0.607551</td>\n",
              "      <td>-0.274300</td>\n",
              "      <td>-0.309053</td>\n",
              "      <td>-0.344413</td>\n",
              "    </tr>\n",
              "    <tr>\n",
              "      <th>124</th>\n",
              "      <td>0.958715</td>\n",
              "      <td>0.162231</td>\n",
              "      <td>0.797749</td>\n",
              "      <td>-0.071296</td>\n",
              "      <td>0.126103</td>\n",
              "      <td>-0.490720</td>\n",
              "      <td>-0.981312</td>\n",
              "      <td>-0.353634</td>\n",
              "    </tr>\n",
              "    <tr>\n",
              "      <th>125</th>\n",
              "      <td>-0.110269</td>\n",
              "      <td>-0.589441</td>\n",
              "      <td>-0.199394</td>\n",
              "      <td>-0.437217</td>\n",
              "      <td>-0.932823</td>\n",
              "      <td>-0.429401</td>\n",
              "      <td>-0.416459</td>\n",
              "      <td>-0.864408</td>\n",
              "    </tr>\n",
              "    <tr>\n",
              "      <th>126</th>\n",
              "      <td>1.373752</td>\n",
              "      <td>4.966558</td>\n",
              "      <td>1.515862</td>\n",
              "      <td>2.612844</td>\n",
              "      <td>3.450750</td>\n",
              "      <td>3.811261</td>\n",
              "      <td>0.269861</td>\n",
              "      <td>-2.098874</td>\n",
              "    </tr>\n",
              "    <tr>\n",
              "      <th>127</th>\n",
              "      <td>1.329275</td>\n",
              "      <td>3.800484</td>\n",
              "      <td>1.200480</td>\n",
              "      <td>1.745297</td>\n",
              "      <td>2.612599</td>\n",
              "      <td>2.606522</td>\n",
              "      <td>-0.060315</td>\n",
              "      <td>-1.739142</td>\n",
              "    </tr>\n",
              "  </tbody>\n",
              "</table>\n",
              "<p>128 rows × 8 columns</p>\n",
              "</div>\n",
              "      <button class=\"colab-df-convert\" onclick=\"convertToInteractive('df-84575f21-ac00-4d10-896a-e5b070ff2429')\"\n",
              "              title=\"Convert this dataframe to an interactive table.\"\n",
              "              style=\"display:none;\">\n",
              "        \n",
              "  <svg xmlns=\"http://www.w3.org/2000/svg\" height=\"24px\"viewBox=\"0 0 24 24\"\n",
              "       width=\"24px\">\n",
              "    <path d=\"M0 0h24v24H0V0z\" fill=\"none\"/>\n",
              "    <path d=\"M18.56 5.44l.94 2.06.94-2.06 2.06-.94-2.06-.94-.94-2.06-.94 2.06-2.06.94zm-11 1L8.5 8.5l.94-2.06 2.06-.94-2.06-.94L8.5 2.5l-.94 2.06-2.06.94zm10 10l.94 2.06.94-2.06 2.06-.94-2.06-.94-.94-2.06-.94 2.06-2.06.94z\"/><path d=\"M17.41 7.96l-1.37-1.37c-.4-.4-.92-.59-1.43-.59-.52 0-1.04.2-1.43.59L10.3 9.45l-7.72 7.72c-.78.78-.78 2.05 0 2.83L4 21.41c.39.39.9.59 1.41.59.51 0 1.02-.2 1.41-.59l7.78-7.78 2.81-2.81c.8-.78.8-2.07 0-2.86zM5.41 20L4 18.59l7.72-7.72 1.47 1.35L5.41 20z\"/>\n",
              "  </svg>\n",
              "      </button>\n",
              "      \n",
              "  <style>\n",
              "    .colab-df-container {\n",
              "      display:flex;\n",
              "      flex-wrap:wrap;\n",
              "      gap: 12px;\n",
              "    }\n",
              "\n",
              "    .colab-df-convert {\n",
              "      background-color: #E8F0FE;\n",
              "      border: none;\n",
              "      border-radius: 50%;\n",
              "      cursor: pointer;\n",
              "      display: none;\n",
              "      fill: #1967D2;\n",
              "      height: 32px;\n",
              "      padding: 0 0 0 0;\n",
              "      width: 32px;\n",
              "    }\n",
              "\n",
              "    .colab-df-convert:hover {\n",
              "      background-color: #E2EBFA;\n",
              "      box-shadow: 0px 1px 2px rgba(60, 64, 67, 0.3), 0px 1px 3px 1px rgba(60, 64, 67, 0.15);\n",
              "      fill: #174EA6;\n",
              "    }\n",
              "\n",
              "    [theme=dark] .colab-df-convert {\n",
              "      background-color: #3B4455;\n",
              "      fill: #D2E3FC;\n",
              "    }\n",
              "\n",
              "    [theme=dark] .colab-df-convert:hover {\n",
              "      background-color: #434B5C;\n",
              "      box-shadow: 0px 1px 3px 1px rgba(0, 0, 0, 0.15);\n",
              "      filter: drop-shadow(0px 1px 2px rgba(0, 0, 0, 0.3));\n",
              "      fill: #FFFFFF;\n",
              "    }\n",
              "  </style>\n",
              "\n",
              "      <script>\n",
              "        const buttonEl =\n",
              "          document.querySelector('#df-84575f21-ac00-4d10-896a-e5b070ff2429 button.colab-df-convert');\n",
              "        buttonEl.style.display =\n",
              "          google.colab.kernel.accessAllowed ? 'block' : 'none';\n",
              "\n",
              "        async function convertToInteractive(key) {\n",
              "          const element = document.querySelector('#df-84575f21-ac00-4d10-896a-e5b070ff2429');\n",
              "          const dataTable =\n",
              "            await google.colab.kernel.invokeFunction('convertToInteractive',\n",
              "                                                     [key], {});\n",
              "          if (!dataTable) return;\n",
              "\n",
              "          const docLinkHtml = 'Like what you see? Visit the ' +\n",
              "            '<a target=\"_blank\" href=https://colab.research.google.com/notebooks/data_table.ipynb>data table notebook</a>'\n",
              "            + ' to learn more about interactive tables.';\n",
              "          element.innerHTML = '';\n",
              "          dataTable['output_type'] = 'display_data';\n",
              "          await google.colab.output.renderOutput(dataTable, element);\n",
              "          const docLink = document.createElement('div');\n",
              "          docLink.innerHTML = docLinkHtml;\n",
              "          element.appendChild(docLink);\n",
              "        }\n",
              "      </script>\n",
              "    </div>\n",
              "  </div>\n",
              "  "
            ]
          },
          "metadata": {},
          "execution_count": 21
        }
      ],
      "source": [
        "from sklearn.preprocessing import RobustScaler\n",
        "\n",
        "scaler = RobustScaler()\n",
        "X_train_scaled = scaler.fit_transform(X_train)\n",
        "pd.DataFrame(X_train_scaled)"
      ]
    },
    {
      "cell_type": "markdown",
      "source": [
        "**melakukan dimensionality reduction (PCA) untuk mengatasi multicollinearity**"
      ],
      "metadata": {
        "id": "Znt9cBsBChKO"
      }
    },
    {
      "cell_type": "markdown",
      "metadata": {
        "id": "Z0xdVBKRtZth"
      },
      "source": [
        "## **Principal Component Analysis (PCA)**"
      ]
    },
    {
      "cell_type": "code",
      "execution_count": 22,
      "metadata": {
        "colab": {
          "base_uri": "https://localhost:8080/",
          "height": 265
        },
        "id": "Obgx4b9etZth",
        "outputId": "d1d9e9b2-a86a-4c4e-a727-25b104ed48c6"
      },
      "outputs": [
        {
          "output_type": "display_data",
          "data": {
            "text/plain": [
              "<Figure size 432x288 with 1 Axes>"
            ],
            "image/png": "[encoded data removed]"
          },
          "metadata": {
            "needs_background": "light"
          }
        }
      ],
      "source": [
        "from sklearn.decomposition import PCA   # PCA\n",
        "\n",
        "pca=PCA()\n",
        "pca.fit(X_train_scaled)\n",
        "cumsum = np.cumsum(pca.explained_variance_ratio_)\n",
        "\n",
        "plt.figure()\n",
        "plt.plot(cumsum,'o--')\n",
        "plt.grid()\n",
        "plt.show()"
      ]
    },
    {
      "cell_type": "markdown",
      "metadata": {
        "id": "ZoL4F4chtZth"
      },
      "source": [
        "**Melakukan pengecekan elbow untuk menentukan n-componets(jumlah dimensi) terbaik.**\n",
        "\n",
        "Untuk hal ini, saya menggunakan library `kneed` untuk melihat jumlah dimensi terbaik."
      ]
    },
    {
      "cell_type": "code",
      "source": [
        "!pip install kneed"
      ],
      "metadata": {
        "colab": {
          "base_uri": "https://localhost:8080/"
        },
        "id": "ZnrFUUOdt3KU",
        "outputId": "f250bf7a-83f0-489b-8b62-372901fa9efd"
      },
      "execution_count": 23,
      "outputs": [
        {
          "output_type": "stream",
          "name": "stdout",
          "text": [
            "Looking in indexes: https://pypi.org/simple, https://us-python.pkg.dev/colab-wheels/public/simple/\n",
            "Collecting kneed\n",
            "  Downloading kneed-0.8.2-py3-none-any.whl (10 kB)\n",
            "Requirement already satisfied: numpy>=1.14.2 in /usr/local/lib/python3.8/dist-packages (from kneed) (1.21.6)\n",
            "Requirement already satisfied: scipy>=1.0.0 in /usr/local/lib/python3.8/dist-packages (from kneed) (1.7.3)\n",
            "Installing collected packages: kneed\n",
            "Successfully installed kneed-0.8.2\n"
          ]
        }
      ]
    },
    {
      "cell_type": "code",
      "execution_count": 24,
      "metadata": {
        "colab": {
          "base_uri": "https://localhost:8080/"
        },
        "id": "Ap-bHKfCtZth",
        "outputId": "6720980f-6cd7-42c7-8888-06246d22425f"
      },
      "outputs": [
        {
          "output_type": "stream",
          "name": "stdout",
          "text": [
            "Elbow: 2\n"
          ]
        }
      ],
      "source": [
        "from kneed import KneeLocator\n",
        "\n",
        "kl = KneeLocator(range(0, 8), cumsum, curve=\"concave\", direction=\"increasing\")\n",
        "print('Elbow:', kl.knee)"
      ]
    },
    {
      "cell_type": "markdown",
      "source": [
        "**Untuk metode kneed, dimensi terbaik adalah 2. Selanjutnya dilakukan pengecekan dimensi terbaik jika ingin melakukan pengamanan informasi data sebanyak 90%**"
      ],
      "metadata": {
        "id": "Uu7hMxXNC9Sa"
      }
    },
    {
      "cell_type": "code",
      "execution_count": 25,
      "metadata": {
        "colab": {
          "base_uri": "https://localhost:8080/"
        },
        "id": "ySfP4txitZti",
        "outputId": "6c624e29-227e-4e12-c5f8-df2be8b8578c"
      },
      "outputs": [
        {
          "output_type": "stream",
          "name": "stdout",
          "text": [
            "Dimension with 90% data information:  2\n"
          ]
        }
      ],
      "source": [
        "df_pca=PCA(n_components=0.90).fit_transform(X_train_scaled)\n",
        "print('Dimension with 90% data information: ',len(pd.DataFrame(df_pca).columns))"
      ]
    },
    {
      "cell_type": "markdown",
      "source": [
        "**Dari sini juga didapatkan jumlah dimensi: 2 merupakan dimensi terbaik. Langkah dilanjutkan melakukan PCA dengan n_component = 2**"
      ],
      "metadata": {
        "id": "3tDesLtrDLfP"
      }
    },
    {
      "cell_type": "code",
      "execution_count": 26,
      "metadata": {
        "colab": {
          "base_uri": "https://localhost:8080/"
        },
        "id": "IvQ1Wt_otZti",
        "outputId": "2621c2b1-5489-4cd8-ed3e-2e36c2fcb910"
      },
      "outputs": [
        {
          "output_type": "stream",
          "name": "stdout",
          "text": [
            "Dimension:  2\n"
          ]
        }
      ],
      "source": [
        "df_pca=PCA(n_components=2).fit_transform(X_train_scaled)\n",
        "print('Dimension: ',len(pd.DataFrame(df_pca).columns))"
      ]
    },
    {
      "cell_type": "markdown",
      "metadata": {
        "id": "ZLCPtMittZti"
      },
      "source": [
        "**PCA PIPELINE**"
      ]
    },
    {
      "cell_type": "markdown",
      "source": [
        "Membuat pipeline untuk mempermudah deployment."
      ],
      "metadata": {
        "id": "0lNtczr0DYKd"
      }
    },
    {
      "cell_type": "code",
      "execution_count": 27,
      "metadata": {
        "id": "YpkD9gQrtZti"
      },
      "outputs": [],
      "source": [
        "from sklearn.pipeline import Pipeline\n",
        "\n",
        "pipe = Pipeline([\n",
        "    ('scaler', RobustScaler()),\n",
        "    ('pca', PCA(n_components=2))\n",
        "])"
      ]
    },
    {
      "cell_type": "markdown",
      "metadata": {
        "id": "m4au_GG2tZti"
      },
      "source": [
        "# **Modeling**"
      ]
    },
    {
      "cell_type": "markdown",
      "metadata": {
        "id": "qFDGw7qWtZti"
      },
      "source": [
        "**Proses modeling akan menggunakan AutoML Auto-SkLearn**\n",
        "\n",
        "Auto-sklearn menggunakan ensambel model (ensemble model) yang terdiri dari kombinasi beberapa algoritma dalam proses prediksinya. Ensambel model adalah teknik pemodelan yang menggabungkan beberapa model yang berbeda untuk menghasilkan prediksi yang lebih akurat daripada hanya menggunakan satu model saja.\n",
        "\n",
        "Proses otomatisasi pemodelan pada auto-sklearn melibatkan pemilihan dan optimasi model secara otomatis dengan menggunakan algoritma-algoritma machine learning yang berbeda-beda.\n",
        "\n",
        "Auto-sklearn akan memilih model terbaik dan menggabungkannya dengan model-model yang telah dibangun pada iterasi sebelumnya. Dalam proses ini, auto-sklearn juga akan menentukan bobot (weight) yang diberikan pada setiap model dalam ensambel untuk mengoptimalkan performa prediksi.\n",
        "\n",
        "Hal ini membuat auto-sklearn menjadi pilihan yang baik untuk menyelesaikan masalah pemodelan yang kompleks dan membutuhkan waktu pemodelan yang lebih cepat."
      ]
    },
    {
      "cell_type": "code",
      "execution_count": 28,
      "metadata": {
        "colab": {
          "base_uri": "https://localhost:8080/"
        },
        "id": "BhFgoT-ttZtj",
        "outputId": "70b66f19-492e-4ef8-9b66-04a4e33f31bc"
      },
      "outputs": [
        {
          "output_type": "stream",
          "name": "stdout",
          "text": [
            "Looking in indexes: https://pypi.org/simple, https://us-python.pkg.dev/colab-wheels/public/simple/\n",
            "Collecting auto-sklearn\n",
            "  Downloading auto-sklearn-0.15.0.tar.gz (6.5 MB)\n",
            "\u001b[2K     \u001b[90m━━━━━━━━━━━━━━━━━━━━━━━━━━━━━━━━━━━━━━━━\u001b[0m \u001b[32m6.5/6.5 MB\u001b[0m \u001b[31m53.9 MB/s\u001b[0m eta \u001b[36m0:00:00\u001b[0m\n",
            "\u001b[?25h  Installing build dependencies ... \u001b[?25l\u001b[?25hdone\n",
            "  Getting requirements to build wheel ... \u001b[?25l\u001b[?25hdone\n",
            "  Preparing metadata (pyproject.toml) ... \u001b[?25l\u001b[?25hdone\n",
            "Collecting pynisher<0.7,>=0.6.3\n",
            "  Downloading pynisher-0.6.4.tar.gz (11 kB)\n",
            "  Preparing metadata (setup.py) ... \u001b[?25l\u001b[?25hdone\n",
            "Requirement already satisfied: pandas>=1.0 in /usr/local/lib/python3.8/dist-packages (from auto-sklearn) (1.3.5)\n",
            "Requirement already satisfied: distributed>=2012.12 in /usr/local/lib/python3.8/dist-packages (from auto-sklearn) (2022.2.1)\n",
            "Collecting smac<1.3,>=1.2\n",
            "  Downloading smac-1.2.tar.gz (260 kB)\n",
            "\u001b[2K     \u001b[90m━━━━━━━━━━━━━━━━━━━━━━━━━━━━━━━━━━━━━━\u001b[0m \u001b[32m260.9/260.9 KB\u001b[0m \u001b[31m27.3 MB/s\u001b[0m eta \u001b[36m0:00:00\u001b[0m\n",
            "\u001b[?25h  Preparing metadata (setup.py) ... \u001b[?25l\u001b[?25hdone\n",
            "Collecting liac-arff\n",
            "  Downloading liac-arff-2.5.0.tar.gz (13 kB)\n",
            "  Preparing metadata (setup.py) ... \u001b[?25l\u001b[?25hdone\n",
            "Collecting scikit-learn<0.25.0,>=0.24.0\n",
            "  Downloading scikit_learn-0.24.2-cp38-cp38-manylinux2010_x86_64.whl (24.9 MB)\n",
            "\u001b[2K     \u001b[90m━━━━━━━━━━━━━━━━━━━━━━━━━━━━━━━━━━━━━━━━\u001b[0m \u001b[32m24.9/24.9 MB\u001b[0m \u001b[31m44.7 MB/s\u001b[0m eta \u001b[36m0:00:00\u001b[0m\n",
            "\u001b[?25hRequirement already satisfied: numpy>=1.9.0 in /usr/local/lib/python3.8/dist-packages (from auto-sklearn) (1.21.6)\n",
            "Requirement already satisfied: threadpoolctl in /usr/local/lib/python3.8/dist-packages (from auto-sklearn) (3.1.0)\n",
            "Requirement already satisfied: typing-extensions in /usr/local/lib/python3.8/dist-packages (from auto-sklearn) (4.5.0)\n",
            "Requirement already satisfied: pyyaml in /usr/local/lib/python3.8/dist-packages (from auto-sklearn) (6.0)\n",
            "Collecting pyrfr<0.9,>=0.8.1\n",
            "  Downloading pyrfr-0.8.3-cp38-cp38-manylinux_2_17_x86_64.manylinux2014_x86_64.whl (4.4 MB)\n",
            "\u001b[2K     \u001b[90m━━━━━━━━━━━━━━━━━━━━━━━━━━━━━━━━━━━━━━━━\u001b[0m \u001b[32m4.4/4.4 MB\u001b[0m \u001b[31m46.5 MB/s\u001b[0m eta \u001b[36m0:00:00\u001b[0m\n",
            "\u001b[?25hRequirement already satisfied: joblib in /usr/local/lib/python3.8/dist-packages (from auto-sklearn) (1.2.0)\n",
            "Collecting distro\n",
            "  Downloading distro-1.8.0-py3-none-any.whl (20 kB)\n",
            "Requirement already satisfied: scipy>=1.7.0 in /usr/local/lib/python3.8/dist-packages (from auto-sklearn) (1.7.3)\n",
            "Collecting ConfigSpace<0.5,>=0.4.21\n",
            "  Downloading ConfigSpace-0.4.21-cp38-cp38-manylinux_2_17_x86_64.manylinux2014_x86_64.whl (4.9 MB)\n",
            "\u001b[2K     \u001b[90m━━━━━━━━━━━━━━━━━━━━━━━━━━━━━━━━━━━━━━━━\u001b[0m \u001b[32m4.9/4.9 MB\u001b[0m \u001b[31m88.1 MB/s\u001b[0m eta \u001b[36m0:00:00\u001b[0m\n",
            "\u001b[?25hRequirement already satisfied: setuptools in /usr/local/lib/python3.8/dist-packages (from auto-sklearn) (57.4.0)\n",
            "Requirement already satisfied: dask>=2021.12 in /usr/local/lib/python3.8/dist-packages (from auto-sklearn) (2022.2.1)\n",
            "Requirement already satisfied: pyparsing in /usr/local/lib/python3.8/dist-packages (from ConfigSpace<0.5,>=0.4.21->auto-sklearn) (3.0.9)\n",
            "Requirement already satisfied: cython in /usr/local/lib/python3.8/dist-packages (from ConfigSpace<0.5,>=0.4.21->auto-sklearn) (0.29.33)\n",
            "Requirement already satisfied: fsspec>=0.6.0 in /usr/local/lib/python3.8/dist-packages (from dask>=2021.12->auto-sklearn) (2023.1.0)\n",
            "Requirement already satisfied: partd>=0.3.10 in /usr/local/lib/python3.8/dist-packages (from dask>=2021.12->auto-sklearn) (1.3.0)\n",
            "Requirement already satisfied: cloudpickle>=1.1.1 in /usr/local/lib/python3.8/dist-packages (from dask>=2021.12->auto-sklearn) (2.2.1)\n",
            "Requirement already satisfied: toolz>=0.8.2 in /usr/local/lib/python3.8/dist-packages (from dask>=2021.12->auto-sklearn) (0.12.0)\n",
            "Requirement already satisfied: packaging>=20.0 in /usr/local/lib/python3.8/dist-packages (from dask>=2021.12->auto-sklearn) (23.0)\n",
            "Requirement already satisfied: jinja2 in /usr/local/lib/python3.8/dist-packages (from distributed>=2012.12->auto-sklearn) (2.11.3)\n",
            "Requirement already satisfied: click>=6.6 in /usr/local/lib/python3.8/dist-packages (from distributed>=2012.12->auto-sklearn) (7.1.2)\n",
            "Requirement already satisfied: tornado>=6.0.3 in /usr/local/lib/python3.8/dist-packages (from distributed>=2012.12->auto-sklearn) (6.2)\n",
            "Requirement already satisfied: zict>=0.1.3 in /usr/local/lib/python3.8/dist-packages (from distributed>=2012.12->auto-sklearn) (2.2.0)\n",
            "Requirement already satisfied: tblib>=1.6.0 in /usr/local/lib/python3.8/dist-packages (from distributed>=2012.12->auto-sklearn) (1.7.0)\n",
            "Requirement already satisfied: sortedcontainers!=2.0.0,!=2.0.1 in /usr/local/lib/python3.8/dist-packages (from distributed>=2012.12->auto-sklearn) (2.4.0)\n",
            "Requirement already satisfied: psutil>=5.0 in /usr/local/lib/python3.8/dist-packages (from distributed>=2012.12->auto-sklearn) (5.4.8)\n",
            "Requirement already satisfied: msgpack>=0.6.0 in /usr/local/lib/python3.8/dist-packages (from distributed>=2012.12->auto-sklearn) (1.0.4)\n",
            "Requirement already satisfied: python-dateutil>=2.7.3 in /usr/local/lib/python3.8/dist-packages (from pandas>=1.0->auto-sklearn) (2.8.2)\n",
            "Requirement already satisfied: pytz>=2017.3 in /usr/local/lib/python3.8/dist-packages (from pandas>=1.0->auto-sklearn) (2022.7.1)\n",
            "Collecting emcee>=3.0.0\n",
            "  Downloading emcee-3.1.4-py2.py3-none-any.whl (46 kB)\n",
            "\u001b[2K     \u001b[90m━━━━━━━━━━━━━━━━━━━━━━━━━━━━━━━━━━━━━━━━\u001b[0m \u001b[32m46.2/46.2 KB\u001b[0m \u001b[31m6.2 MB/s\u001b[0m eta \u001b[36m0:00:00\u001b[0m\n",
            "\u001b[?25hRequirement already satisfied: locket in /usr/local/lib/python3.8/dist-packages (from partd>=0.3.10->dask>=2021.12->auto-sklearn) (1.0.0)\n",
            "Requirement already satisfied: six>=1.5 in /usr/local/lib/python3.8/dist-packages (from python-dateutil>=2.7.3->pandas>=1.0->auto-sklearn) (1.15.0)\n",
            "Requirement already satisfied: heapdict in /usr/local/lib/python3.8/dist-packages (from zict>=0.1.3->distributed>=2012.12->auto-sklearn) (1.0.1)\n",
            "Requirement already satisfied: MarkupSafe>=0.23 in /usr/local/lib/python3.8/dist-packages (from jinja2->distributed>=2012.12->auto-sklearn) (2.0.1)\n",
            "Building wheels for collected packages: auto-sklearn, pynisher, smac, liac-arff\n",
            "  Building wheel for auto-sklearn (pyproject.toml) ... \u001b[?25l\u001b[?25hdone\n",
            "  Created wheel for auto-sklearn: filename=auto_sklearn-0.15.0-py3-none-any.whl size=6641945 sha256=79a131bf1b2b49f19614acaf2c29a5b3430a364227246220281bc71c7cef6d24\n",
            "  Stored in directory: /root/.cache/pip/wheels/c5/11/0e/aeac2cee929fa4388e528737b49deb2eea05486e6f80d61c1a\n",
            "  Building wheel for pynisher (setup.py) ... \u001b[?25l\u001b[?25hdone\n",
            "  Created wheel for pynisher: filename=pynisher-0.6.4-py3-none-any.whl size=7044 sha256=43c59adb08efb1153d33c751780f68f9119ade933f969e17a5b705c4793e4990\n",
            "  Stored in directory: /root/.cache/pip/wheels/a7/0b/c3/169e35bcd72f20d0d5e24c37dd2dff8282cc16c06df9762ff5\n",
            "  Building wheel for smac (setup.py) ... \u001b[?25l\u001b[?25hdone\n",
            "  Created wheel for smac: filename=smac-1.2-py3-none-any.whl size=215933 sha256=3c0e31af905f334b5889d3ef44648b7cf41b7d87baaa041c791b9100cd31ad67\n",
            "  Stored in directory: /root/.cache/pip/wheels/1c/0d/63/29515e546f52561bf5ff41e3968fe2c35afe4ae366be54b2c4\n",
            "  Building wheel for liac-arff (setup.py) ... \u001b[?25l\u001b[?25hdone\n",
            "  Created wheel for liac-arff: filename=liac_arff-2.5.0-py3-none-any.whl size=11732 sha256=fb100a2f8b2d5dbec20a46fab670568fc4ad58a37a52ae56b6c900e2e6f4d6e9\n",
            "  Stored in directory: /root/.cache/pip/wheels/a2/de/68/bf3972de3ecb31e32bef59a7f4c75f0687a3674c476b347c14\n",
            "Successfully built auto-sklearn pynisher smac liac-arff\n",
            "Installing collected packages: pyrfr, pynisher, liac-arff, emcee, distro, scikit-learn, ConfigSpace, smac, auto-sklearn\n",
            "  Attempting uninstall: scikit-learn\n",
            "    Found existing installation: scikit-learn 1.0.2\n",
            "    Uninstalling scikit-learn-1.0.2:\n",
            "      Successfully uninstalled scikit-learn-1.0.2\n",
            "\u001b[31mERROR: pip's dependency resolver does not currently take into account all the packages that are installed. This behaviour is the source of the following dependency conflicts.\n",
            "yellowbrick 1.5 requires scikit-learn>=1.0.0, but you have scikit-learn 0.24.2 which is incompatible.\u001b[0m\u001b[31m\n",
            "\u001b[0mSuccessfully installed ConfigSpace-0.4.21 auto-sklearn-0.15.0 distro-1.8.0 emcee-3.1.4 liac-arff-2.5.0 pynisher-0.6.4 pyrfr-0.8.3 scikit-learn-0.24.2 smac-1.2\n"
          ]
        }
      ],
      "source": [
        "!pip install auto-sklearn"
      ]
    },
    {
      "cell_type": "code",
      "execution_count": 29,
      "metadata": {
        "id": "L-u2c8-9tZtj"
      },
      "outputs": [],
      "source": [
        "feature_types = ['Numerical']*8"
      ]
    },
    {
      "cell_type": "markdown",
      "source": [
        "Model akan diraining dalam waktu 10 menit dengan runtime 1 menit per run untuk mendapatkan kombinasi model terbaik."
      ],
      "metadata": {
        "id": "3hoxFEAmDg64"
      }
    },
    {
      "cell_type": "code",
      "source": [
        "import autosklearn.regression\n",
        "\n",
        "auto_regressor = autosklearn.regression.AutoSklearnRegressor(\n",
        "    time_left_for_this_task=600,\n",
        "    per_run_time_limit=60,\n",
        ")\n",
        "auto_regressor.fit(df_pca, y_train)"
      ],
      "metadata": {
        "colab": {
          "base_uri": "https://localhost:8080/"
        },
        "id": "usD9hjm_u0cb",
        "outputId": "218f7e24-4574-471b-d6f5-64b28e419b52"
      },
      "execution_count": 31,
      "outputs": [
        {
          "output_type": "execute_result",
          "data": {
            "text/plain": [
              "AutoSklearnRegressor(ensemble_class=<class 'autosklearn.ensembles.ensemble_selection.EnsembleSelection'>,\n",
              "                     per_run_time_limit=60, time_left_for_this_task=600)"
            ]
          },
          "metadata": {},
          "execution_count": 31
        }
      ]
    },
    {
      "cell_type": "code",
      "source": [
        "print(auto_regressor.leaderboard())"
      ],
      "metadata": {
        "colab": {
          "base_uri": "https://localhost:8080/"
        },
        "id": "1RzsZ95HxJNq",
        "outputId": "1ec2516e-d50c-4c2d-ba98-9ad1a9d0ef94"
      },
      "execution_count": 34,
      "outputs": [
        {
          "output_type": "stream",
          "name": "stdout",
          "text": [
            "          rank  ensemble_weight                 type      cost  duration\n",
            "model_id                                                                \n",
            "119          1             0.02        liblinear_svr  0.599582  0.794153\n",
            "127          2             0.40  k_nearest_neighbors  0.612051  0.757419\n",
            "101          3             0.26        liblinear_svr  0.613542  0.789465\n",
            "32           4             0.02        liblinear_svr  0.663317  0.604442\n",
            "123          5             0.04        liblinear_svr  0.696836  0.580952\n",
            "106          6             0.20        liblinear_svr  0.732770  0.847188\n",
            "124          7             0.06        liblinear_svr  0.762707  0.612964\n"
          ]
        }
      ]
    },
    {
      "cell_type": "markdown",
      "source": [
        "> **Deskripsi Model**\n",
        "\n",
        "Kolom \"rank\" menunjukkan peringkat model berdasarkan performa terbaik hingga yang terburuk. Peringkat teratas adalah model dengan model_id=119 yang menggunakan algoritma \"liblinear_svr\" dan memiliki cost sebesar 0.599582.\n",
        "\n",
        "Kolom \"ensemble_weight\" menunjukkan bobot (weight) yang diberikan pada model ketika digunakan dalam suatu ensemble (gabungan) model. Semakin tinggi bobot, semakin besar kontribusi model pada ensemble. Dalam contoh tersebut, model dengan model_id=127 memiliki bobot tertinggi yaitu 0.4, yang artinya model tersebut memberikan kontribusi terbesar dalam ensemble.\n",
        "\n",
        "Kolom \"type\" menunjukkan tipe algoritma yang digunakan untuk membangun model, misalnya \"liblinear_svr\" dan \"k_nearest_neighbors\" pada contoh tersebut.\n",
        "\n",
        "Kolom \"cost\" menunjukkan nilai cost yang dihasilkan oleh model tersebut pada data yang digunakan untuk pelatihan dan validasi. Semakin kecil nilai cost, semakin baik performa model.\n",
        "\n",
        "Kolom \"duration\" menunjukkan waktu yang dibutuhkan oleh auto-sklearn untuk melatih model dalam satuan detik.\n",
        "\n",
        "Dari hasil tersebut, dapat dilihat bahwa model dengan model_id=119 merupakan model terbaik berdasarkan peringkat dan cost, namun auto-sklearn telah memilih model ensamblenya dengan memberikan bobot tertinggi pada model dengan model_id=127. \n",
        "\n",
        "> **Deskripsi Algoritma**\n",
        "\n",
        "Dapat dilihat bahwa auto-sklearn telah mencoba beberapa algoritma machine learning seperti liblinear_svr dan k_nearest_neighbors untuk membangun model. Model dengan peringkat satu adalah model yang terbaik dari sekumpulan model yang dihasilkan oleh auto-sklearn dengan menggunakan algoritma liblinear_svr. Bobot ensemble yang diberikan pada model ini adalah 0.02. Model kedua terbaik adalah model dengan algoritma k_nearest_neighbors, dengan bobot ensemble sebesar 0.40. Dan seterusnya hingga model terakhir yang memiliki peringkat tujuh dengan algoritma liblinear_svr dan bobot ensemble sebesar 0.06."
      ],
      "metadata": {
        "id": "FMMYYtX-EDCw"
      }
    },
    {
      "cell_type": "markdown",
      "source": [
        "# **Combining The Pipeline**"
      ],
      "metadata": {
        "id": "q6eEPPrH_oY7"
      }
    },
    {
      "cell_type": "markdown",
      "source": [
        "**Membuat pipeline untuk mempermudah proses prediksi dan deployment**"
      ],
      "metadata": {
        "id": "4tGw1RphFip2"
      }
    },
    {
      "cell_type": "code",
      "source": [
        "pipeline = Pipeline([\n",
        "    ('preprocessing', pipe),\n",
        "    ('model', auto_regressor)\n",
        "])"
      ],
      "metadata": {
        "id": "iTZ5W4Mu_rMF"
      },
      "execution_count": 35,
      "outputs": []
    },
    {
      "cell_type": "markdown",
      "source": [
        "# **Model Training**"
      ],
      "metadata": {
        "id": "dPpK9mzFFr2l"
      }
    },
    {
      "cell_type": "code",
      "source": [
        "pipe.fit(X_train, y_train)"
      ],
      "metadata": {
        "colab": {
          "base_uri": "https://localhost:8080/"
        },
        "id": "RKMIUoGN_ncB",
        "outputId": "968b3f2a-339b-4f8d-822a-2e2d36eeb603"
      },
      "execution_count": 36,
      "outputs": [
        {
          "output_type": "execute_result",
          "data": {
            "text/plain": [
              "Pipeline(steps=[('scaler', RobustScaler()), ('pca', PCA(n_components=2))])"
            ]
          },
          "metadata": {},
          "execution_count": 36
        }
      ]
    },
    {
      "cell_type": "code",
      "source": [
        "from sklearn.metrics import mean_absolute_error as mae\n",
        "from sklearn.metrics import mean_squared_error as mse\n",
        "\n",
        "train_predict = auto_regressor.predict(df_pca)\n",
        "train_predict2 = pipeline.predict(X_train)\n",
        "test_predict = pipeline.predict(X_test)\n",
        "\n",
        "print('------- TRAIN EVALUATION -------')\n",
        "print('MAE :', mae(y_train, train_predict2))\n",
        "print('RMSE:', np.sqrt(mse(y_train, train_predict2)))\n",
        "print(' ')\n",
        "print('------- TEST EVALUATION -------')\n",
        "print('MAE :', mae(y_test, test_predict))\n",
        "print('RMSE:', np.sqrt(mse(y_test, test_predict)))\n",
        "\n",
        "\n"
      ],
      "metadata": {
        "colab": {
          "base_uri": "https://localhost:8080/"
        },
        "id": "0SJDj_nn8djK",
        "outputId": "899b51c6-934f-48bc-b1ba-b5a798303ea3"
      },
      "execution_count": 37,
      "outputs": [
        {
          "output_type": "stream",
          "name": "stdout",
          "text": [
            "------- TRAIN EVALUATION -------\n",
            "MAE : 0.1412515141093172\n",
            "RMSE: 0.17267058618207307\n",
            " \n",
            "------- TEST EVALUATION -------\n",
            "MAE : 0.15514621755108235\n",
            "RMSE: 0.2046173530646719\n"
          ]
        }
      ]
    },
    {
      "cell_type": "markdown",
      "source": [
        "**Evaluasi performa model machine learning pada data training dan data testing dengan menggunakan metrik MAE (Mean Absolute Error) dan RMSE (Root Mean Squared Error).**\n",
        "\n",
        "Pada evaluasi training, MAE didapatkan dengan nilai **0.14**. Nilai ini menunjukkan rata-rata kesalahan prediksi model dalam satuan asli dari data yang diprediksi. Semakin kecil nilai MAE, semakin baik performa model dalam memprediksi nilai target. Sedangkan RMSE pada evaluasi training didapatkan dengan nilai **0.17**, yang menunjukkan akar dari rata-rata kuadrat selisih antara nilai target dan prediksi model. Semakin kecil nilai RMSE, semakin baik performa model.\n",
        "\n",
        "Pada evaluasi testing, MAE didapatkan dengan nilai **0.15**. Nilai ini menunjukkan rata-rata kesalahan prediksi model pada data testing. Semakin dekat nilai MAE pada data training dan testing, semakin baik performa model. Sedangkan RMSE pada evaluasi testing didapatkan dengan nilai **0.20**. Nilai ini menunjukkan akar dari rata-rata kuadrat selisih antara nilai target dan prediksi model pada data testing. Semakin kecil nilai RMSE pada data testing, semakin baik performa model dalam memprediksi nilai target pada data testing."
      ],
      "metadata": {
        "id": "zrEeYvm5GaYm"
      }
    },
    {
      "cell_type": "markdown",
      "source": [
        "\n",
        "\n",
        "Dari evaluasi, terlihat model sedikit overfit, namun masih bisa ditoleransi. Dilanjutkan ke deployment."
      ],
      "metadata": {
        "id": "cawdzP_IFzlO"
      }
    },
    {
      "cell_type": "markdown",
      "source": [
        "# **Saving The Full Model**"
      ],
      "metadata": {
        "id": "SA6NFWd7Bj8y"
      }
    },
    {
      "cell_type": "markdown",
      "source": [
        "**Melakukan saving model**"
      ],
      "metadata": {
        "id": "VwWopTP-GvBI"
      }
    },
    {
      "cell_type": "code",
      "source": [
        "import pickle\n",
        "\n",
        "# Save the pipeline and the model\n",
        "with open('pipeline_and_model.pkl', 'wb') as f:\n",
        "    pickle.dump((pipeline), f)"
      ],
      "metadata": {
        "id": "ijpS9Y41Cmiq"
      },
      "execution_count": 38,
      "outputs": []
    },
    {
      "cell_type": "markdown",
      "source": [
        "# **Kesimpulan**"
      ],
      "metadata": {
        "id": "KR-fmh9yGxcj"
      }
    },
    {
      "cell_type": "markdown",
      "source": [
        "Untuk meningkatkan kualitas model, ada beberapa hal yang perlu ditingkatkan\n",
        "\n",
        "1. Menambah jumlah data training: Semakin banyak data yang digunakan untuk melatih model, semakin akurat pula model dalam melakukan prediksi.\n",
        "2. Meningkatkan kualitas data: Kualitas data sangat penting dalam pembuatan model prediksi yang akurat. Oleh karena itu, perlu dilakukan pembersihan data atau preprocessing data untuk meminimalkan missing value, outliers, dan data yang tidak konsisten.\n",
        "3. Mencoba algoritma lain dapat menjadi pilihan untuk meningkatkan performa model. Dengan mencoba algoritma lain, kita dapat menemukan model yang lebih baik untuk masalah yang dihadapi. Selain itu, dapat juga dilakukan tuning parameter pada algoritma yang digunakan untuk meningkatkan performa model."
      ],
      "metadata": {
        "id": "5SGymbFZHRBG"
      }
    },
    {
      "cell_type": "markdown",
      "source": [
        "# **Contact**"
      ],
      "metadata": {
        "id": "mYO55jSmHx75"
      }
    },
    {
      "cell_type": "markdown",
      "source": [
        "Linkedin: http://linkedin.com/in/hasbithaufik/ <br>\n",
        "Github: http://github.com/hasbithaufik <br>\n",
        "Gmail: hasbithaufik@gmail.com <br>\n",
        "Telepon: +6281374160173"
      ],
      "metadata": {
        "id": "UXTRhVFrH-aY"
      }
    }
  ],
  "metadata": {
    "kernelspec": {
      "display_name": "Python 3.10.8 ('base')",
      "language": "python",
      "name": "python3"
    },
    "language_info": {
      "codemirror_mode": {
        "name": "ipython",
        "version": 3
      },
      "file_extension": ".py",
      "mimetype": "text/x-python",
      "name": "python",
      "nbconvert_exporter": "python",
      "pygments_lexer": "ipython3",
      "version": "3.10.8"
    },
    "orig_nbformat": 4,
    "vscode": {
      "interpreter": {
        "hash": "a63af29ed18ede8395c2d56641a5e92f6b61cc555e2e996b06f5e9ca4dc59e5b"
      }
    },
    "colab": {
      "provenance": []
    }
  },
  "nbformat": 4,
  "nbformat_minor": 0
}